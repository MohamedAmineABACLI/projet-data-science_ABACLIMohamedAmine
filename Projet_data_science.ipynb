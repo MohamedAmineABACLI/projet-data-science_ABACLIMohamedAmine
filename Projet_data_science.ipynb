{
 "cells": [
  {
   "cell_type": "markdown",
   "id": "6f5ee90b",
   "metadata": {
    "_cell_guid": "b1076dfc-b9ad-4769-8c92-a6c4dae69d19",
    "_uuid": "8f2839f25d086af736a60e9eeb907d3b93b6e0e5",
    "execution": {
     "iopub.execute_input": "2023-04-10T03:51:51.057817Z",
     "iopub.status.busy": "2023-04-10T03:51:51.057261Z",
     "iopub.status.idle": "2023-04-10T03:51:51.067724Z",
     "shell.execute_reply": "2023-04-10T03:51:51.066042Z",
     "shell.execute_reply.started": "2023-04-10T03:51:51.057772Z"
    },
    "papermill": {
     "duration": 0.013332,
     "end_time": "2023-04-10T05:15:31.068664",
     "exception": false,
     "start_time": "2023-04-10T05:15:31.055332",
     "status": "completed"
    },
    "tags": []
   },
   "source": [
    "# Introduction"
   ]
  },
  {
   "cell_type": "markdown",
   "id": "0363c810",
   "metadata": {
    "papermill": {
     "duration": 0.011944,
     "end_time": "2023-04-10T05:15:31.093169",
     "exception": false,
     "start_time": "2023-04-10T05:15:31.081225",
     "status": "completed"
    },
    "tags": []
   },
   "source": [
    "#### Présentation de l'ensemble de données Titanic\n",
    "\n",
    "L'ensemble de données Titanic est un ensemble de données célèbre dans le domaine de l'apprentissage automatique et de l'analyse de données. Il contient des données sur les passagers du Titanic et leur statut de survie. Il se compose d'un ensemble de données d'apprentissage de 891 observations et d'un ensemble de données de test de 418 observations. L'objectif est de prédire la survie des passagers dans l'ensemble de données de test sur la base des variables de l'ensemble de données de formation."
   ]
  },
  {
   "cell_type": "markdown",
   "id": "006c108e",
   "metadata": {
    "papermill": {
     "duration": 0.012487,
     "end_time": "2023-04-10T05:15:31.117915",
     "exception": false,
     "start_time": "2023-04-10T05:15:31.105428",
     "status": "completed"
    },
    "tags": []
   },
   "source": [
    "# Importation de bibliothèques\n",
    "Pour commencer, importons les bibliothèques nécessaires que nous utiliserons tout au long de ce cahier :"
   ]
  },
  {
   "cell_type": "code",
   "execution_count": 1,
   "id": "158164c5",
   "metadata": {
    "execution": {
     "iopub.execute_input": "2023-04-10T05:15:31.146800Z",
     "iopub.status.busy": "2023-04-10T05:15:31.146420Z",
     "iopub.status.idle": "2023-04-10T05:15:33.062793Z",
     "shell.execute_reply": "2023-04-10T05:15:33.061407Z"
    },
    "papermill": {
     "duration": 1.933327,
     "end_time": "2023-04-10T05:15:33.065575",
     "exception": false,
     "start_time": "2023-04-10T05:15:31.132248",
     "status": "completed"
    },
    "tags": []
   },
   "outputs": [
    {
     "ename": "ModuleNotFoundError",
     "evalue": "No module named 'xgboost'",
     "output_type": "error",
     "traceback": [
      "\u001b[1;31m---------------------------------------------------------------------------\u001b[0m",
      "\u001b[1;31mModuleNotFoundError\u001b[0m                       Traceback (most recent call last)",
      "\u001b[1;32m~\\AppData\\Local\\Temp\\ipykernel_14384\\1239285029.py\u001b[0m in \u001b[0;36m<module>\u001b[1;34m\u001b[0m\n\u001b[0;32m     18\u001b[0m \u001b[1;32mfrom\u001b[0m \u001b[0msklearn\u001b[0m\u001b[1;33m.\u001b[0m\u001b[0mtree\u001b[0m \u001b[1;32mimport\u001b[0m \u001b[0mDecisionTreeClassifier\u001b[0m\u001b[1;33m\u001b[0m\u001b[1;33m\u001b[0m\u001b[0m\n\u001b[0;32m     19\u001b[0m \u001b[1;32mfrom\u001b[0m \u001b[0msklearn\u001b[0m\u001b[1;33m.\u001b[0m\u001b[0mensemble\u001b[0m \u001b[1;32mimport\u001b[0m \u001b[0mRandomForestClassifier\u001b[0m\u001b[1;33m,\u001b[0m\u001b[0mGradientBoostingClassifier\u001b[0m\u001b[1;33m,\u001b[0m \u001b[0mAdaBoostClassifier\u001b[0m\u001b[1;33m\u001b[0m\u001b[1;33m\u001b[0m\u001b[0m\n\u001b[1;32m---> 20\u001b[1;33m \u001b[1;32mfrom\u001b[0m \u001b[0mxgboost\u001b[0m \u001b[1;32mimport\u001b[0m \u001b[0mXGBClassifier\u001b[0m\u001b[1;33m\u001b[0m\u001b[1;33m\u001b[0m\u001b[0m\n\u001b[0m\u001b[0;32m     21\u001b[0m \u001b[1;32mfrom\u001b[0m \u001b[0msklearn\u001b[0m\u001b[1;33m.\u001b[0m\u001b[0msvm\u001b[0m \u001b[1;32mimport\u001b[0m \u001b[0mSVC\u001b[0m\u001b[1;33m\u001b[0m\u001b[1;33m\u001b[0m\u001b[0m\n",
      "\u001b[1;31mModuleNotFoundError\u001b[0m: No module named 'xgboost'"
     ]
    }
   ],
   "source": [
    "# Data Manipulation Libraries\n",
    "import pandas as pd\n",
    "import numpy as np\n",
    "\n",
    "# Data Visualization Libraries\n",
    "import seaborn as sns\n",
    "import matplotlib.pyplot as plt\n",
    "\n",
    "# Machine Learning Libraries\n",
    "from sklearn.preprocessing import  StandardScaler\n",
    "from sklearn.model_selection import train_test_split\n",
    "from sklearn.metrics import accuracy_score ,precision_score, recall_score, f1_score\n",
    "from sklearn.model_selection import StratifiedKFold, cross_val_score\n",
    "from sklearn.metrics import  classification_report, confusion_matrix\n",
    "\n",
    "# Machine Learning Models\n",
    "from sklearn.linear_model import LogisticRegression\n",
    "from sklearn.tree import DecisionTreeClassifier\n",
    "from sklearn.ensemble import RandomForestClassifier,GradientBoostingClassifier, AdaBoostClassifier\n",
    "from xgboost import XGBClassifier\n",
    "from sklearn.svm import SVC"
   ]
  },
  {
   "cell_type": "markdown",
   "id": "316348d2",
   "metadata": {
    "papermill": {
     "duration": 0.012053,
     "end_time": "2023-04-10T05:15:33.090127",
     "exception": false,
     "start_time": "2023-04-10T05:15:33.078074",
     "status": "completed"
    },
    "tags": []
   },
   "source": [
    "# Chargement du jeu de données\n",
    "\n",
    "Dans cette section, nous allons charger l'ensemble de données Titanic dans le bloc-notes. L'ensemble de données est stocké dans deux fichiers CSV, l'un pour les données d'entraînement et l'autre pour les données de test. Nous utiliserons la bibliothèque pandas pour charger les fichiers CSV dans des cadres de données que nous pourrons manipuler et explorer. Une fois les fichiers chargés, nous pouvons commencer à explorer les données et à les préparer pour la modélisation de l'apprentissage automatique."
   ]
  },
  {
   "cell_type": "code",
   "execution_count": 3,
   "id": "65d5442c",
   "metadata": {
    "execution": {
     "iopub.execute_input": "2023-04-10T05:15:33.117127Z",
     "iopub.status.busy": "2023-04-10T05:15:33.116753Z",
     "iopub.status.idle": "2023-04-10T05:15:33.144931Z",
     "shell.execute_reply": "2023-04-10T05:15:33.144148Z"
    },
    "papermill": {
     "duration": 0.044625,
     "end_time": "2023-04-10T05:15:33.147301",
     "exception": false,
     "start_time": "2023-04-10T05:15:33.102676",
     "status": "completed"
    },
    "tags": []
   },
   "outputs": [],
   "source": [
    "# reading the train data\n",
    "train_df = pd.read_csv(\"C:/Users/HP/Downloads/train.csv\")\n",
    "\n",
    "# reading the test data\n",
    "test = pd.read_csv(\"C:/Users/HP/Downloads/test.csv\")"
   ]
  },
  {
   "cell_type": "markdown",
   "id": "045e4172",
   "metadata": {
    "papermill": {
     "duration": 0.012623,
     "end_time": "2023-04-10T05:15:33.173307",
     "exception": false,
     "start_time": "2023-04-10T05:15:33.160684",
     "status": "completed"
    },
    "tags": []
   },
   "source": [
    "# Compréhension des variables\n",
    "\n",
    "Avant de commencer à analyser l'ensemble de données du Titanic, il est important de comprendre ce que chaque variable représente. L'ensemble de données contient les variables suivantes :\n",
    "\n",
    "PassengerId : Un identifiant unique pour chaque passager.\n",
    "\n",
    "Survivant : Le passager a survécu ou non (0 = Non, 1 = Oui).\n",
    "\n",
    "Pclass : La classe du passager (1 = 1ère classe, 2 = 2ème classe, 3 = 3ème classe).\n",
    "\n",
    "Nom : Le nom du passager.\n",
    "\n",
    "Sexe : Le sexe du passager : Le sexe du passager.\n",
    "\n",
    "Âge : l'âge du passager en années. Les valeurs fractionnaires sont incluses pour les enfants en bas âge.\n",
    "\n",
    "SibSp : Nombre de frères et sœurs/conjoints à bord du Titanic.\n",
    "\n",
    "Parch : Nombre de parents/enfants à bord du Titanic.\n",
    "\n",
    "Ticket : Numéro du billet du passager.\n",
    "\n",
    "Tarif : Le prix payé par le passager.\n",
    "\n",
    "Cabine : Numéro de la cabine du passager (si disponible).\n",
    "\n",
    "Embarqué : Le port d'embarquement (C = Cherbourg, Q = Queenstown, S = Southampton)."
   ]
  },
  {
   "cell_type": "markdown",
   "id": "6e0baba7",
   "metadata": {
    "papermill": {
     "duration": 0.012319,
     "end_time": "2023-04-10T05:15:33.198302",
     "exception": false,
     "start_time": "2023-04-10T05:15:33.185983",
     "status": "completed"
    },
    "tags": []
   },
   "source": [
    "# Exploration et préparation des données"
   ]
  },
  {
   "cell_type": "code",
   "execution_count": 4,
   "id": "47e45107",
   "metadata": {
    "execution": {
     "iopub.execute_input": "2023-04-10T05:15:33.225883Z",
     "iopub.status.busy": "2023-04-10T05:15:33.225319Z",
     "iopub.status.idle": "2023-04-10T05:15:33.255740Z",
     "shell.execute_reply": "2023-04-10T05:15:33.254904Z"
    },
    "papermill": {
     "duration": 0.046613,
     "end_time": "2023-04-10T05:15:33.257935",
     "exception": false,
     "start_time": "2023-04-10T05:15:33.211322",
     "status": "completed"
    },
    "tags": []
   },
   "outputs": [
    {
     "data": {
      "text/html": [
       "<div>\n",
       "<style scoped>\n",
       "    .dataframe tbody tr th:only-of-type {\n",
       "        vertical-align: middle;\n",
       "    }\n",
       "\n",
       "    .dataframe tbody tr th {\n",
       "        vertical-align: top;\n",
       "    }\n",
       "\n",
       "    .dataframe thead th {\n",
       "        text-align: right;\n",
       "    }\n",
       "</style>\n",
       "<table border=\"1\" class=\"dataframe\">\n",
       "  <thead>\n",
       "    <tr style=\"text-align: right;\">\n",
       "      <th></th>\n",
       "      <th>PassengerId</th>\n",
       "      <th>Survived</th>\n",
       "      <th>Pclass</th>\n",
       "      <th>Name</th>\n",
       "      <th>Sex</th>\n",
       "      <th>Age</th>\n",
       "      <th>SibSp</th>\n",
       "      <th>Parch</th>\n",
       "      <th>Ticket</th>\n",
       "      <th>Fare</th>\n",
       "      <th>Cabin</th>\n",
       "      <th>Embarked</th>\n",
       "    </tr>\n",
       "  </thead>\n",
       "  <tbody>\n",
       "    <tr>\n",
       "      <th>0</th>\n",
       "      <td>1</td>\n",
       "      <td>0</td>\n",
       "      <td>3</td>\n",
       "      <td>Braund, Mr. Owen Harris</td>\n",
       "      <td>male</td>\n",
       "      <td>22.0</td>\n",
       "      <td>1</td>\n",
       "      <td>0</td>\n",
       "      <td>A/5 21171</td>\n",
       "      <td>7.2500</td>\n",
       "      <td>NaN</td>\n",
       "      <td>S</td>\n",
       "    </tr>\n",
       "    <tr>\n",
       "      <th>1</th>\n",
       "      <td>2</td>\n",
       "      <td>1</td>\n",
       "      <td>1</td>\n",
       "      <td>Cumings, Mrs. John Bradley (Florence Briggs Th...</td>\n",
       "      <td>female</td>\n",
       "      <td>38.0</td>\n",
       "      <td>1</td>\n",
       "      <td>0</td>\n",
       "      <td>PC 17599</td>\n",
       "      <td>71.2833</td>\n",
       "      <td>C85</td>\n",
       "      <td>C</td>\n",
       "    </tr>\n",
       "    <tr>\n",
       "      <th>2</th>\n",
       "      <td>3</td>\n",
       "      <td>1</td>\n",
       "      <td>3</td>\n",
       "      <td>Heikkinen, Miss. Laina</td>\n",
       "      <td>female</td>\n",
       "      <td>26.0</td>\n",
       "      <td>0</td>\n",
       "      <td>0</td>\n",
       "      <td>STON/O2. 3101282</td>\n",
       "      <td>7.9250</td>\n",
       "      <td>NaN</td>\n",
       "      <td>S</td>\n",
       "    </tr>\n",
       "    <tr>\n",
       "      <th>3</th>\n",
       "      <td>4</td>\n",
       "      <td>1</td>\n",
       "      <td>1</td>\n",
       "      <td>Futrelle, Mrs. Jacques Heath (Lily May Peel)</td>\n",
       "      <td>female</td>\n",
       "      <td>35.0</td>\n",
       "      <td>1</td>\n",
       "      <td>0</td>\n",
       "      <td>113803</td>\n",
       "      <td>53.1000</td>\n",
       "      <td>C123</td>\n",
       "      <td>S</td>\n",
       "    </tr>\n",
       "    <tr>\n",
       "      <th>4</th>\n",
       "      <td>5</td>\n",
       "      <td>0</td>\n",
       "      <td>3</td>\n",
       "      <td>Allen, Mr. William Henry</td>\n",
       "      <td>male</td>\n",
       "      <td>35.0</td>\n",
       "      <td>0</td>\n",
       "      <td>0</td>\n",
       "      <td>373450</td>\n",
       "      <td>8.0500</td>\n",
       "      <td>NaN</td>\n",
       "      <td>S</td>\n",
       "    </tr>\n",
       "  </tbody>\n",
       "</table>\n",
       "</div>"
      ],
      "text/plain": [
       "   PassengerId  Survived  Pclass  \\\n",
       "0            1         0       3   \n",
       "1            2         1       1   \n",
       "2            3         1       3   \n",
       "3            4         1       1   \n",
       "4            5         0       3   \n",
       "\n",
       "                                                Name     Sex   Age  SibSp  \\\n",
       "0                            Braund, Mr. Owen Harris    male  22.0      1   \n",
       "1  Cumings, Mrs. John Bradley (Florence Briggs Th...  female  38.0      1   \n",
       "2                             Heikkinen, Miss. Laina  female  26.0      0   \n",
       "3       Futrelle, Mrs. Jacques Heath (Lily May Peel)  female  35.0      1   \n",
       "4                           Allen, Mr. William Henry    male  35.0      0   \n",
       "\n",
       "   Parch            Ticket     Fare Cabin Embarked  \n",
       "0      0         A/5 21171   7.2500   NaN        S  \n",
       "1      0          PC 17599  71.2833   C85        C  \n",
       "2      0  STON/O2. 3101282   7.9250   NaN        S  \n",
       "3      0            113803  53.1000  C123        S  \n",
       "4      0            373450   8.0500   NaN        S  "
      ]
     },
     "execution_count": 4,
     "metadata": {},
     "output_type": "execute_result"
    }
   ],
   "source": [
    "# we use method head() to show the first 5 rows\n",
    "train_df.head()\n"
   ]
  },
  {
   "cell_type": "code",
   "execution_count": 5,
   "id": "a825106f",
   "metadata": {
    "execution": {
     "iopub.execute_input": "2023-04-10T05:15:33.285393Z",
     "iopub.status.busy": "2023-04-10T05:15:33.285012Z",
     "iopub.status.idle": "2023-04-10T05:15:33.299507Z",
     "shell.execute_reply": "2023-04-10T05:15:33.298768Z"
    },
    "papermill": {
     "duration": 0.030709,
     "end_time": "2023-04-10T05:15:33.301481",
     "exception": false,
     "start_time": "2023-04-10T05:15:33.270772",
     "status": "completed"
    },
    "tags": []
   },
   "outputs": [
    {
     "data": {
      "text/html": [
       "<div>\n",
       "<style scoped>\n",
       "    .dataframe tbody tr th:only-of-type {\n",
       "        vertical-align: middle;\n",
       "    }\n",
       "\n",
       "    .dataframe tbody tr th {\n",
       "        vertical-align: top;\n",
       "    }\n",
       "\n",
       "    .dataframe thead th {\n",
       "        text-align: right;\n",
       "    }\n",
       "</style>\n",
       "<table border=\"1\" class=\"dataframe\">\n",
       "  <thead>\n",
       "    <tr style=\"text-align: right;\">\n",
       "      <th></th>\n",
       "      <th>PassengerId</th>\n",
       "      <th>Pclass</th>\n",
       "      <th>Name</th>\n",
       "      <th>Sex</th>\n",
       "      <th>Age</th>\n",
       "      <th>SibSp</th>\n",
       "      <th>Parch</th>\n",
       "      <th>Ticket</th>\n",
       "      <th>Fare</th>\n",
       "      <th>Cabin</th>\n",
       "      <th>Embarked</th>\n",
       "    </tr>\n",
       "  </thead>\n",
       "  <tbody>\n",
       "    <tr>\n",
       "      <th>0</th>\n",
       "      <td>892</td>\n",
       "      <td>3</td>\n",
       "      <td>Kelly, Mr. James</td>\n",
       "      <td>male</td>\n",
       "      <td>34.5</td>\n",
       "      <td>0</td>\n",
       "      <td>0</td>\n",
       "      <td>330911</td>\n",
       "      <td>7.8292</td>\n",
       "      <td>NaN</td>\n",
       "      <td>Q</td>\n",
       "    </tr>\n",
       "    <tr>\n",
       "      <th>1</th>\n",
       "      <td>893</td>\n",
       "      <td>3</td>\n",
       "      <td>Wilkes, Mrs. James (Ellen Needs)</td>\n",
       "      <td>female</td>\n",
       "      <td>47.0</td>\n",
       "      <td>1</td>\n",
       "      <td>0</td>\n",
       "      <td>363272</td>\n",
       "      <td>7.0000</td>\n",
       "      <td>NaN</td>\n",
       "      <td>S</td>\n",
       "    </tr>\n",
       "    <tr>\n",
       "      <th>2</th>\n",
       "      <td>894</td>\n",
       "      <td>2</td>\n",
       "      <td>Myles, Mr. Thomas Francis</td>\n",
       "      <td>male</td>\n",
       "      <td>62.0</td>\n",
       "      <td>0</td>\n",
       "      <td>0</td>\n",
       "      <td>240276</td>\n",
       "      <td>9.6875</td>\n",
       "      <td>NaN</td>\n",
       "      <td>Q</td>\n",
       "    </tr>\n",
       "    <tr>\n",
       "      <th>3</th>\n",
       "      <td>895</td>\n",
       "      <td>3</td>\n",
       "      <td>Wirz, Mr. Albert</td>\n",
       "      <td>male</td>\n",
       "      <td>27.0</td>\n",
       "      <td>0</td>\n",
       "      <td>0</td>\n",
       "      <td>315154</td>\n",
       "      <td>8.6625</td>\n",
       "      <td>NaN</td>\n",
       "      <td>S</td>\n",
       "    </tr>\n",
       "    <tr>\n",
       "      <th>4</th>\n",
       "      <td>896</td>\n",
       "      <td>3</td>\n",
       "      <td>Hirvonen, Mrs. Alexander (Helga E Lindqvist)</td>\n",
       "      <td>female</td>\n",
       "      <td>22.0</td>\n",
       "      <td>1</td>\n",
       "      <td>1</td>\n",
       "      <td>3101298</td>\n",
       "      <td>12.2875</td>\n",
       "      <td>NaN</td>\n",
       "      <td>S</td>\n",
       "    </tr>\n",
       "  </tbody>\n",
       "</table>\n",
       "</div>"
      ],
      "text/plain": [
       "   PassengerId  Pclass                                          Name     Sex  \\\n",
       "0          892       3                              Kelly, Mr. James    male   \n",
       "1          893       3              Wilkes, Mrs. James (Ellen Needs)  female   \n",
       "2          894       2                     Myles, Mr. Thomas Francis    male   \n",
       "3          895       3                              Wirz, Mr. Albert    male   \n",
       "4          896       3  Hirvonen, Mrs. Alexander (Helga E Lindqvist)  female   \n",
       "\n",
       "    Age  SibSp  Parch   Ticket     Fare Cabin Embarked  \n",
       "0  34.5      0      0   330911   7.8292   NaN        Q  \n",
       "1  47.0      1      0   363272   7.0000   NaN        S  \n",
       "2  62.0      0      0   240276   9.6875   NaN        Q  \n",
       "3  27.0      0      0   315154   8.6625   NaN        S  \n",
       "4  22.0      1      1  3101298  12.2875   NaN        S  "
      ]
     },
     "execution_count": 5,
     "metadata": {},
     "output_type": "execute_result"
    }
   ],
   "source": [
    "test.head()\n"
   ]
  },
  {
   "cell_type": "code",
   "execution_count": 6,
   "id": "12dc6569",
   "metadata": {
    "execution": {
     "iopub.execute_input": "2023-04-10T05:15:33.329208Z",
     "iopub.status.busy": "2023-04-10T05:15:33.328629Z",
     "iopub.status.idle": "2023-04-10T05:15:33.333960Z",
     "shell.execute_reply": "2023-04-10T05:15:33.332350Z"
    },
    "papermill": {
     "duration": 0.021639,
     "end_time": "2023-04-10T05:15:33.335971",
     "exception": false,
     "start_time": "2023-04-10T05:15:33.314332",
     "status": "completed"
    },
    "tags": []
   },
   "outputs": [
    {
     "name": "stdout",
     "output_type": "stream",
     "text": [
      "(418, 11)\n",
      "(891, 12)\n"
     ]
    }
   ],
   "source": [
    "print (test.shape)\n",
    "print (train_df.shape)"
   ]
  },
  {
   "cell_type": "markdown",
   "id": "73c195e7",
   "metadata": {
    "papermill": {
     "duration": 0.012692,
     "end_time": "2023-04-10T05:15:33.361774",
     "exception": false,
     "start_time": "2023-04-10T05:15:33.349082",
     "status": "completed"
    },
    "tags": []
   },
   "source": [
    "as we see above we have 11 attributes and 418 records in the test data set, but we have\n",
    "12 attributes and 891 records in the train data set.\n"
   ]
  },
  {
   "cell_type": "code",
   "execution_count": 7,
   "id": "a32e8b1e",
   "metadata": {
    "execution": {
     "iopub.execute_input": "2023-04-10T05:15:33.389743Z",
     "iopub.status.busy": "2023-04-10T05:15:33.388794Z",
     "iopub.status.idle": "2023-04-10T05:15:33.433608Z",
     "shell.execute_reply": "2023-04-10T05:15:33.431989Z"
    },
    "papermill": {
     "duration": 0.061946,
     "end_time": "2023-04-10T05:15:33.436649",
     "exception": false,
     "start_time": "2023-04-10T05:15:33.374703",
     "status": "completed"
    },
    "tags": []
   },
   "outputs": [
    {
     "data": {
      "text/html": [
       "<div>\n",
       "<style scoped>\n",
       "    .dataframe tbody tr th:only-of-type {\n",
       "        vertical-align: middle;\n",
       "    }\n",
       "\n",
       "    .dataframe tbody tr th {\n",
       "        vertical-align: top;\n",
       "    }\n",
       "\n",
       "    .dataframe thead th {\n",
       "        text-align: right;\n",
       "    }\n",
       "</style>\n",
       "<table border=\"1\" class=\"dataframe\">\n",
       "  <thead>\n",
       "    <tr style=\"text-align: right;\">\n",
       "      <th></th>\n",
       "      <th>PassengerId</th>\n",
       "      <th>Survived</th>\n",
       "      <th>Pclass</th>\n",
       "      <th>Age</th>\n",
       "      <th>SibSp</th>\n",
       "      <th>Parch</th>\n",
       "      <th>Fare</th>\n",
       "    </tr>\n",
       "  </thead>\n",
       "  <tbody>\n",
       "    <tr>\n",
       "      <th>count</th>\n",
       "      <td>891.000000</td>\n",
       "      <td>891.000000</td>\n",
       "      <td>891.000000</td>\n",
       "      <td>714.000000</td>\n",
       "      <td>891.000000</td>\n",
       "      <td>891.000000</td>\n",
       "      <td>891.000000</td>\n",
       "    </tr>\n",
       "    <tr>\n",
       "      <th>mean</th>\n",
       "      <td>446.000000</td>\n",
       "      <td>0.383838</td>\n",
       "      <td>2.308642</td>\n",
       "      <td>29.699118</td>\n",
       "      <td>0.523008</td>\n",
       "      <td>0.381594</td>\n",
       "      <td>32.204208</td>\n",
       "    </tr>\n",
       "    <tr>\n",
       "      <th>std</th>\n",
       "      <td>257.353842</td>\n",
       "      <td>0.486592</td>\n",
       "      <td>0.836071</td>\n",
       "      <td>14.526497</td>\n",
       "      <td>1.102743</td>\n",
       "      <td>0.806057</td>\n",
       "      <td>49.693429</td>\n",
       "    </tr>\n",
       "    <tr>\n",
       "      <th>min</th>\n",
       "      <td>1.000000</td>\n",
       "      <td>0.000000</td>\n",
       "      <td>1.000000</td>\n",
       "      <td>0.420000</td>\n",
       "      <td>0.000000</td>\n",
       "      <td>0.000000</td>\n",
       "      <td>0.000000</td>\n",
       "    </tr>\n",
       "    <tr>\n",
       "      <th>25%</th>\n",
       "      <td>223.500000</td>\n",
       "      <td>0.000000</td>\n",
       "      <td>2.000000</td>\n",
       "      <td>20.125000</td>\n",
       "      <td>0.000000</td>\n",
       "      <td>0.000000</td>\n",
       "      <td>7.910400</td>\n",
       "    </tr>\n",
       "    <tr>\n",
       "      <th>50%</th>\n",
       "      <td>446.000000</td>\n",
       "      <td>0.000000</td>\n",
       "      <td>3.000000</td>\n",
       "      <td>28.000000</td>\n",
       "      <td>0.000000</td>\n",
       "      <td>0.000000</td>\n",
       "      <td>14.454200</td>\n",
       "    </tr>\n",
       "    <tr>\n",
       "      <th>75%</th>\n",
       "      <td>668.500000</td>\n",
       "      <td>1.000000</td>\n",
       "      <td>3.000000</td>\n",
       "      <td>38.000000</td>\n",
       "      <td>1.000000</td>\n",
       "      <td>0.000000</td>\n",
       "      <td>31.000000</td>\n",
       "    </tr>\n",
       "    <tr>\n",
       "      <th>max</th>\n",
       "      <td>891.000000</td>\n",
       "      <td>1.000000</td>\n",
       "      <td>3.000000</td>\n",
       "      <td>80.000000</td>\n",
       "      <td>8.000000</td>\n",
       "      <td>6.000000</td>\n",
       "      <td>512.329200</td>\n",
       "    </tr>\n",
       "  </tbody>\n",
       "</table>\n",
       "</div>"
      ],
      "text/plain": [
       "       PassengerId    Survived      Pclass         Age       SibSp  \\\n",
       "count   891.000000  891.000000  891.000000  714.000000  891.000000   \n",
       "mean    446.000000    0.383838    2.308642   29.699118    0.523008   \n",
       "std     257.353842    0.486592    0.836071   14.526497    1.102743   \n",
       "min       1.000000    0.000000    1.000000    0.420000    0.000000   \n",
       "25%     223.500000    0.000000    2.000000   20.125000    0.000000   \n",
       "50%     446.000000    0.000000    3.000000   28.000000    0.000000   \n",
       "75%     668.500000    1.000000    3.000000   38.000000    1.000000   \n",
       "max     891.000000    1.000000    3.000000   80.000000    8.000000   \n",
       "\n",
       "            Parch        Fare  \n",
       "count  891.000000  891.000000  \n",
       "mean     0.381594   32.204208  \n",
       "std      0.806057   49.693429  \n",
       "min      0.000000    0.000000  \n",
       "25%      0.000000    7.910400  \n",
       "50%      0.000000   14.454200  \n",
       "75%      0.000000   31.000000  \n",
       "max      6.000000  512.329200  "
      ]
     },
     "execution_count": 7,
     "metadata": {},
     "output_type": "execute_result"
    }
   ],
   "source": [
    "train_df.describe()"
   ]
  },
  {
   "cell_type": "markdown",
   "id": "b3b3b221",
   "metadata": {
    "papermill": {
     "duration": 0.012851,
     "end_time": "2023-04-10T05:15:33.462790",
     "exception": false,
     "start_time": "2023-04-10T05:15:33.449939",
     "status": "completed"
    },
    "tags": []
   },
   "source": [
    "The above df.describe() command presents statistical properties in vertical form.\n"
   ]
  },
  {
   "cell_type": "code",
   "execution_count": 8,
   "id": "c3108898",
   "metadata": {
    "execution": {
     "iopub.execute_input": "2023-04-10T05:15:33.492879Z",
     "iopub.status.busy": "2023-04-10T05:15:33.490575Z",
     "iopub.status.idle": "2023-04-10T05:15:33.504737Z",
     "shell.execute_reply": "2023-04-10T05:15:33.503839Z"
    },
    "papermill": {
     "duration": 0.030604,
     "end_time": "2023-04-10T05:15:33.506690",
     "exception": false,
     "start_time": "2023-04-10T05:15:33.476086",
     "status": "completed"
    },
    "tags": []
   },
   "outputs": [
    {
     "data": {
      "text/plain": [
       "0"
      ]
     },
     "execution_count": 8,
     "metadata": {},
     "output_type": "execute_result"
    }
   ],
   "source": [
    "# find if we have a duplicated rows in train data\n",
    "\n",
    "train_df.duplicated().sum()"
   ]
  },
  {
   "cell_type": "code",
   "execution_count": 9,
   "id": "ff2f25ff",
   "metadata": {
    "execution": {
     "iopub.execute_input": "2023-04-10T05:15:33.535502Z",
     "iopub.status.busy": "2023-04-10T05:15:33.534776Z",
     "iopub.status.idle": "2023-04-10T05:15:33.543134Z",
     "shell.execute_reply": "2023-04-10T05:15:33.542326Z"
    },
    "papermill": {
     "duration": 0.025404,
     "end_time": "2023-04-10T05:15:33.545609",
     "exception": false,
     "start_time": "2023-04-10T05:15:33.520205",
     "status": "completed"
    },
    "tags": []
   },
   "outputs": [
    {
     "data": {
      "text/plain": [
       "PassengerId      0\n",
       "Survived         0\n",
       "Pclass           0\n",
       "Name             0\n",
       "Sex              0\n",
       "Age            177\n",
       "SibSp            0\n",
       "Parch            0\n",
       "Ticket           0\n",
       "Fare             0\n",
       "Cabin          687\n",
       "Embarked         2\n",
       "dtype: int64"
      ]
     },
     "execution_count": 9,
     "metadata": {},
     "output_type": "execute_result"
    }
   ],
   "source": [
    "# # find if we have a null values in train data\n",
    "\n",
    "train_df.isna().sum()"
   ]
  },
  {
   "cell_type": "code",
   "execution_count": 10,
   "id": "01b05d69",
   "metadata": {
    "execution": {
     "iopub.execute_input": "2023-04-10T05:15:33.575581Z",
     "iopub.status.busy": "2023-04-10T05:15:33.574854Z",
     "iopub.status.idle": "2023-04-10T05:15:33.585100Z",
     "shell.execute_reply": "2023-04-10T05:15:33.583588Z"
    },
    "papermill": {
     "duration": 0.028493,
     "end_time": "2023-04-10T05:15:33.588009",
     "exception": false,
     "start_time": "2023-04-10T05:15:33.559516",
     "status": "completed"
    },
    "tags": []
   },
   "outputs": [
    {
     "data": {
      "text/plain": [
       "0"
      ]
     },
     "execution_count": 10,
     "metadata": {},
     "output_type": "execute_result"
    }
   ],
   "source": [
    "# find if we have a duplicated rows in test data\n",
    "\n",
    "test.duplicated().sum()"
   ]
  },
  {
   "cell_type": "code",
   "execution_count": 11,
   "id": "f1d2cd58",
   "metadata": {
    "execution": {
     "iopub.execute_input": "2023-04-10T05:15:33.618149Z",
     "iopub.status.busy": "2023-04-10T05:15:33.617427Z",
     "iopub.status.idle": "2023-04-10T05:15:33.625945Z",
     "shell.execute_reply": "2023-04-10T05:15:33.624637Z"
    },
    "papermill": {
     "duration": 0.026606,
     "end_time": "2023-04-10T05:15:33.628695",
     "exception": false,
     "start_time": "2023-04-10T05:15:33.602089",
     "status": "completed"
    },
    "tags": []
   },
   "outputs": [
    {
     "data": {
      "text/plain": [
       "PassengerId      0\n",
       "Pclass           0\n",
       "Name             0\n",
       "Sex              0\n",
       "Age             86\n",
       "SibSp            0\n",
       "Parch            0\n",
       "Ticket           0\n",
       "Fare             1\n",
       "Cabin          327\n",
       "Embarked         0\n",
       "dtype: int64"
      ]
     },
     "execution_count": 11,
     "metadata": {},
     "output_type": "execute_result"
    }
   ],
   "source": [
    "# find if we have a null value in test data\n",
    "test.isna().sum()"
   ]
  },
  {
   "cell_type": "code",
   "execution_count": 12,
   "id": "cccbddc0",
   "metadata": {
    "execution": {
     "iopub.execute_input": "2023-04-10T05:15:33.659617Z",
     "iopub.status.busy": "2023-04-10T05:15:33.657974Z",
     "iopub.status.idle": "2023-04-10T05:15:33.666725Z",
     "shell.execute_reply": "2023-04-10T05:15:33.665860Z"
    },
    "papermill": {
     "duration": 0.026564,
     "end_time": "2023-04-10T05:15:33.669025",
     "exception": false,
     "start_time": "2023-04-10T05:15:33.642461",
     "status": "completed"
    },
    "tags": []
   },
   "outputs": [
    {
     "data": {
      "text/plain": [
       "109"
      ]
     },
     "execution_count": 12,
     "metadata": {},
     "output_type": "execute_result"
    }
   ],
   "source": [
    "# The number of men who survived\n",
    "train_df[train_df['Sex']=='male']['Survived'].sum()"
   ]
  },
  {
   "cell_type": "code",
   "execution_count": 13,
   "id": "473b531e",
   "metadata": {
    "execution": {
     "iopub.execute_input": "2023-04-10T05:15:33.699821Z",
     "iopub.status.busy": "2023-04-10T05:15:33.699122Z",
     "iopub.status.idle": "2023-04-10T05:15:33.705913Z",
     "shell.execute_reply": "2023-04-10T05:15:33.705228Z"
    },
    "papermill": {
     "duration": 0.025046,
     "end_time": "2023-04-10T05:15:33.708357",
     "exception": false,
     "start_time": "2023-04-10T05:15:33.683311",
     "status": "completed"
    },
    "tags": []
   },
   "outputs": [
    {
     "data": {
      "text/plain": [
       "233"
      ]
     },
     "execution_count": 13,
     "metadata": {},
     "output_type": "execute_result"
    }
   ],
   "source": [
    "# The number of women who survived\n",
    "train_df[train_df['Sex']=='female']['Survived'].sum()"
   ]
  },
  {
   "cell_type": "markdown",
   "id": "f9012f4e",
   "metadata": {
    "papermill": {
     "duration": 0.013601,
     "end_time": "2023-04-10T05:15:33.736657",
     "exception": false,
     "start_time": "2023-04-10T05:15:33.723056",
     "status": "completed"
    },
    "tags": []
   },
   "source": [
    "Le code ci-dessous utilise la bibliothèque Seaborn pour tracer des graphiques indiquant le nombre de passagers ayant survécu ou non à la catastrophe pour chacune des colonnes \"Sex\", \"Embarked\", \"Pclass\", \"SibSp\" et \"Parch\".\n",
    "\n",
    "Une boucle est utilisée pour répéter le processus pour chaque colonne spécifiée dans la liste ['Sex', 'Embarked', 'Pclass', 'SibSp', 'Parch'].\n",
    "\n",
    "La fonction 'countplot' de Seaborn est utilisée pour dessiner le graphique. Cette fonction affiche le nombre de cas dans chaque catégorie pour les différentes valeurs de la colonne spécifiée (comme le sexe ou la classe de billet), ainsi que la couleur distinctive pour chaque catégorie (survivant et non survivant). En d'autres termes, le nombre de passagers qui ont survécu et qui n'ont pas survécu est affiché pour chaque valeur différente de la colonne spécifiée."
   ]
  },
  {
   "cell_type": "code",
   "execution_count": 14,
   "id": "ed8b4be2",
   "metadata": {
    "execution": {
     "iopub.execute_input": "2023-04-10T05:15:33.766433Z",
     "iopub.status.busy": "2023-04-10T05:15:33.765747Z",
     "iopub.status.idle": "2023-04-10T05:15:34.613978Z",
     "shell.execute_reply": "2023-04-10T05:15:34.612903Z"
    },
    "papermill": {
     "duration": 0.865737,
     "end_time": "2023-04-10T05:15:34.616269",
     "exception": false,
     "start_time": "2023-04-10T05:15:33.750532",
     "status": "completed"
    },
    "tags": []
   },
   "outputs": [
    {
     "name": "stdout",
     "output_type": "stream",
     "text": [
      "Sex\n"
     ]
    },
    {
     "data": {
      "image/png": "[encoded data removed]",
      "text/plain": [
       "<Figure size 640x480 with 1 Axes>"
      ]
     },
     "metadata": {},
     "output_type": "display_data"
    },
    {
     "name": "stdout",
     "output_type": "stream",
     "text": [
      "\n",
      "Embarked\n"
     ]
    },
    {
     "data": {
      "image/png": "[encoded data removed]",
      "text/plain": [
       "<Figure size 640x480 with 1 Axes>"
      ]
     },
     "metadata": {},
     "output_type": "display_data"
    },
    {
     "name": "stdout",
     "output_type": "stream",
     "text": [
      "\n",
      "Pclass\n"
     ]
    },
    {
     "data": {
      "image/png": "[encoded data removed]",
      "text/plain": [
       "<Figure size 640x480 with 1 Axes>"
      ]
     },
     "metadata": {},
     "output_type": "display_data"
    },
    {
     "name": "stdout",
     "output_type": "stream",
     "text": [
      "\n",
      "SibSp\n"
     ]
    },
    {
     "data": {
      "image/png": "[encoded data removed]",
      "text/plain": [
       "<Figure size 640x480 with 1 Axes>"
      ]
     },
     "metadata": {},
     "output_type": "display_data"
    },
    {
     "name": "stdout",
     "output_type": "stream",
     "text": [
      "\n",
      "Parch\n"
     ]
    },
    {
     "data": {
      "image/png": "[encoded data removed]",
      "text/plain": [
       "<Figure size 640x480 with 1 Axes>"
      ]
     },
     "metadata": {},
     "output_type": "display_data"
    },
    {
     "name": "stdout",
     "output_type": "stream",
     "text": [
      "\n"
     ]
    }
   ],
   "source": [
    "\n",
    "for column_name in ['Sex','Embarked','Pclass', 'SibSp', 'Parch']:\n",
    "    print(column_name)\n",
    "    sns.countplot(data=train_df, x=column_name, hue='Survived')\n",
    "    plt.show()\n",
    "    print(\"\")"
   ]
  },
  {
   "cell_type": "code",
   "execution_count": 15,
   "id": "2610fc94",
   "metadata": {
    "execution": {
     "iopub.execute_input": "2023-04-10T05:15:34.649559Z",
     "iopub.status.busy": "2023-04-10T05:15:34.648688Z",
     "iopub.status.idle": "2023-04-10T05:15:34.862035Z",
     "shell.execute_reply": "2023-04-10T05:15:34.860873Z"
    },
    "papermill": {
     "duration": 0.23286,
     "end_time": "2023-04-10T05:15:34.864428",
     "exception": false,
     "start_time": "2023-04-10T05:15:34.631568",
     "status": "completed"
    },
    "tags": []
   },
   "outputs": [
    {
     "data": {
      "text/plain": [
       "<AxesSubplot:xlabel='Age', ylabel='Count'>"
      ]
     },
     "execution_count": 15,
     "metadata": {},
     "output_type": "execute_result"
    },
    {
     "data": {
      "image/png": "[encoded data removed]",
      "text/plain": [
       "<Figure size 640x480 with 1 Axes>"
      ]
     },
     "metadata": {},
     "output_type": "display_data"
    }
   ],
   "source": [
    "sns.histplot(train_df['Age'])"
   ]
  },
  {
   "cell_type": "markdown",
   "id": "fd9ebdb1",
   "metadata": {
    "papermill": {
     "duration": 0.016262,
     "end_time": "2023-04-10T05:15:34.896728",
     "exception": false,
     "start_time": "2023-04-10T05:15:34.880466",
     "status": "completed"
    },
    "tags": []
   },
   "source": [
    "La fonction 'histplot' de Seaborn est utilisée pour dessiner l'histogramme. Cette fonction affiche la distribution de fréquence de la colonne \"Age\", c'est-à-dire le nombre de passagers dans chaque groupe d'âge.\n",
    "\n",
    "L'histogramme peut être utilisé pour identifier des modèles et des tendances dans la distribution des âges des passagers dans l'ensemble de données \"train_df\", tels que le groupe d'âge le plus courant ou la présence de valeurs aberrantes."
   ]
  },
  {
   "cell_type": "code",
   "execution_count": 16,
   "id": "0c661c3b",
   "metadata": {
    "execution": {
     "iopub.execute_input": "2023-04-10T05:15:34.930673Z",
     "iopub.status.busy": "2023-04-10T05:15:34.930254Z",
     "iopub.status.idle": "2023-04-10T05:15:34.938956Z",
     "shell.execute_reply": "2023-04-10T05:15:34.937972Z"
    },
    "papermill": {
     "duration": 0.028169,
     "end_time": "2023-04-10T05:15:34.940889",
     "exception": false,
     "start_time": "2023-04-10T05:15:34.912720",
     "status": "completed"
    },
    "tags": []
   },
   "outputs": [
    {
     "data": {
      "text/plain": [
       "30.72664459161148"
      ]
     },
     "execution_count": 16,
     "metadata": {},
     "output_type": "execute_result"
    }
   ],
   "source": [
    "# calculate the mean age of male passengers in the 'train_df' dataset.\n",
    "mean_male = train_df[train_df['Sex']=='male']['Age'].mean()\n",
    "mean_male"
   ]
  },
  {
   "cell_type": "code",
   "execution_count": 17,
   "id": "6c83f494",
   "metadata": {
    "execution": {
     "iopub.execute_input": "2023-04-10T05:15:34.977853Z",
     "iopub.status.busy": "2023-04-10T05:15:34.976476Z",
     "iopub.status.idle": "2023-04-10T05:15:34.986035Z",
     "shell.execute_reply": "2023-04-10T05:15:34.984533Z"
    },
    "papermill": {
     "duration": 0.03064,
     "end_time": "2023-04-10T05:15:34.988739",
     "exception": false,
     "start_time": "2023-04-10T05:15:34.958099",
     "status": "completed"
    },
    "tags": []
   },
   "outputs": [
    {
     "data": {
      "text/plain": [
       "27.915708812260537"
      ]
     },
     "execution_count": 17,
     "metadata": {},
     "output_type": "execute_result"
    }
   ],
   "source": [
    "# calculate the mean age of بثmale passengers in the 'train_df' dataset.\n",
    "mean_female = train_df[train_df['Sex']=='female']['Age'].mean()\n",
    "mean_female"
   ]
  },
  {
   "cell_type": "markdown",
   "id": "b4b32de0",
   "metadata": {
    "papermill": {
     "duration": 0.01598,
     "end_time": "2023-04-10T05:15:35.020931",
     "exception": false,
     "start_time": "2023-04-10T05:15:35.004951",
     "status": "completed"
    },
    "tags": []
   },
   "source": [
    "Comme nous l'avons vu, il existe une différence entre la moyenne de mal et la moyenne de fmale"
   ]
  },
  {
   "cell_type": "markdown",
   "id": "b03eb2cc",
   "metadata": {
    "papermill": {
     "duration": 0.015818,
     "end_time": "2023-04-10T05:15:35.053031",
     "exception": false,
     "start_time": "2023-04-10T05:15:35.037213",
     "status": "completed"
    },
    "tags": []
   },
   "source": [
    "dans le code ci-dessous \n",
    "la fonction \"fillna\" est utilisée pour compléter les valeurs manquantes dans la colonne \"âge\" des passagers masculins et féminins avec la valeur \"mean_male\" et \"mean_female\" respectivement.\n",
    "\n",
    "Pour ce faire, les lignes de l'ensemble de données \"train_df\" dont le sexe est \"masculin\" sont d'abord sélectionnées à l'aide de la condition \"train_df['Sex']=='male'\". Ensuite, pour ces lignes sélectionnées, les valeurs manquantes dans la colonne \"Age\" sont remplies avec \"mean_male\"."
   ]
  },
  {
   "cell_type": "code",
   "execution_count": 18,
   "id": "35e8b2a5",
   "metadata": {
    "execution": {
     "iopub.execute_input": "2023-04-10T05:15:35.087589Z",
     "iopub.status.busy": "2023-04-10T05:15:35.086760Z",
     "iopub.status.idle": "2023-04-10T05:15:35.094815Z",
     "shell.execute_reply": "2023-04-10T05:15:35.093523Z"
    },
    "papermill": {
     "duration": 0.028027,
     "end_time": "2023-04-10T05:15:35.097261",
     "exception": false,
     "start_time": "2023-04-10T05:15:35.069234",
     "status": "completed"
    },
    "tags": []
   },
   "outputs": [],
   "source": [
    "train_df.loc[train_df['Sex']=='male', 'Age'] = train_df[train_df['Sex']=='male']['Age'].fillna(value=mean_male)"
   ]
  },
  {
   "cell_type": "code",
   "execution_count": 19,
   "id": "9a9cd83b",
   "metadata": {
    "execution": {
     "iopub.execute_input": "2023-04-10T05:15:35.132526Z",
     "iopub.status.busy": "2023-04-10T05:15:35.131930Z",
     "iopub.status.idle": "2023-04-10T05:15:35.140204Z",
     "shell.execute_reply": "2023-04-10T05:15:35.138615Z"
    },
    "papermill": {
     "duration": 0.028012,
     "end_time": "2023-04-10T05:15:35.142401",
     "exception": false,
     "start_time": "2023-04-10T05:15:35.114389",
     "status": "completed"
    },
    "tags": []
   },
   "outputs": [],
   "source": [
    "train_df.loc[train_df['Sex']=='female', 'Age'] = train_df[train_df['Sex']=='female']['Age'].fillna(value=mean_female)"
   ]
  },
  {
   "cell_type": "code",
   "execution_count": 20,
   "id": "c3449726",
   "metadata": {
    "execution": {
     "iopub.execute_input": "2023-04-10T05:15:35.179918Z",
     "iopub.status.busy": "2023-04-10T05:15:35.178308Z",
     "iopub.status.idle": "2023-04-10T05:15:35.190267Z",
     "shell.execute_reply": "2023-04-10T05:15:35.188948Z"
    },
    "papermill": {
     "duration": 0.033629,
     "end_time": "2023-04-10T05:15:35.192957",
     "exception": false,
     "start_time": "2023-04-10T05:15:35.159328",
     "status": "completed"
    },
    "tags": []
   },
   "outputs": [
    {
     "data": {
      "text/plain": [
       "PassengerId      0\n",
       "Survived         0\n",
       "Pclass           0\n",
       "Name             0\n",
       "Sex              0\n",
       "Age              0\n",
       "SibSp            0\n",
       "Parch            0\n",
       "Ticket           0\n",
       "Fare             0\n",
       "Cabin          687\n",
       "Embarked         2\n",
       "dtype: int64"
      ]
     },
     "execution_count": 20,
     "metadata": {},
     "output_type": "execute_result"
    }
   ],
   "source": [
    "train_df.isna().sum()"
   ]
  },
  {
   "cell_type": "markdown",
   "id": "30ee31fd",
   "metadata": {
    "papermill": {
     "duration": 0.016411,
     "end_time": "2023-04-10T05:15:35.226408",
     "exception": false,
     "start_time": "2023-04-10T05:15:35.209997",
     "status": "completed"
    },
    "tags": []
   },
   "source": [
    "comme nous l'avons vu, il n'y a pas de valeurs nulles dans la colonne âge"
   ]
  },
  {
   "cell_type": "code",
   "execution_count": 21,
   "id": "73e2ee7f",
   "metadata": {
    "execution": {
     "iopub.execute_input": "2023-04-10T05:15:35.260145Z",
     "iopub.status.busy": "2023-04-10T05:15:35.259703Z",
     "iopub.status.idle": "2023-04-10T05:15:35.267044Z",
     "shell.execute_reply": "2023-04-10T05:15:35.265906Z"
    },
    "papermill": {
     "duration": 0.027252,
     "end_time": "2023-04-10T05:15:35.269291",
     "exception": false,
     "start_time": "2023-04-10T05:15:35.242039",
     "status": "completed"
    },
    "tags": []
   },
   "outputs": [],
   "source": [
    "# Dropping some unimportant features\n",
    "train_df.drop(['PassengerId','SibSp','Parch','Ticket','Cabin','Name'], axis=1, inplace= True)"
   ]
  },
  {
   "cell_type": "code",
   "execution_count": 22,
   "id": "818fe1a5",
   "metadata": {
    "execution": {
     "iopub.execute_input": "2023-04-10T05:15:35.304869Z",
     "iopub.status.busy": "2023-04-10T05:15:35.304209Z",
     "iopub.status.idle": "2023-04-10T05:15:35.316354Z",
     "shell.execute_reply": "2023-04-10T05:15:35.314456Z"
    },
    "papermill": {
     "duration": 0.032195,
     "end_time": "2023-04-10T05:15:35.318456",
     "exception": false,
     "start_time": "2023-04-10T05:15:35.286261",
     "status": "completed"
    },
    "tags": []
   },
   "outputs": [
    {
     "data": {
      "text/html": [
       "<div>\n",
       "<style scoped>\n",
       "    .dataframe tbody tr th:only-of-type {\n",
       "        vertical-align: middle;\n",
       "    }\n",
       "\n",
       "    .dataframe tbody tr th {\n",
       "        vertical-align: top;\n",
       "    }\n",
       "\n",
       "    .dataframe thead th {\n",
       "        text-align: right;\n",
       "    }\n",
       "</style>\n",
       "<table border=\"1\" class=\"dataframe\">\n",
       "  <thead>\n",
       "    <tr style=\"text-align: right;\">\n",
       "      <th></th>\n",
       "      <th>Survived</th>\n",
       "      <th>Pclass</th>\n",
       "      <th>Sex</th>\n",
       "      <th>Age</th>\n",
       "      <th>Fare</th>\n",
       "      <th>Embarked</th>\n",
       "    </tr>\n",
       "  </thead>\n",
       "  <tbody>\n",
       "    <tr>\n",
       "      <th>0</th>\n",
       "      <td>0</td>\n",
       "      <td>3</td>\n",
       "      <td>male</td>\n",
       "      <td>22.0</td>\n",
       "      <td>7.2500</td>\n",
       "      <td>S</td>\n",
       "    </tr>\n",
       "    <tr>\n",
       "      <th>1</th>\n",
       "      <td>1</td>\n",
       "      <td>1</td>\n",
       "      <td>female</td>\n",
       "      <td>38.0</td>\n",
       "      <td>71.2833</td>\n",
       "      <td>C</td>\n",
       "    </tr>\n",
       "    <tr>\n",
       "      <th>2</th>\n",
       "      <td>1</td>\n",
       "      <td>3</td>\n",
       "      <td>female</td>\n",
       "      <td>26.0</td>\n",
       "      <td>7.9250</td>\n",
       "      <td>S</td>\n",
       "    </tr>\n",
       "    <tr>\n",
       "      <th>3</th>\n",
       "      <td>1</td>\n",
       "      <td>1</td>\n",
       "      <td>female</td>\n",
       "      <td>35.0</td>\n",
       "      <td>53.1000</td>\n",
       "      <td>S</td>\n",
       "    </tr>\n",
       "    <tr>\n",
       "      <th>4</th>\n",
       "      <td>0</td>\n",
       "      <td>3</td>\n",
       "      <td>male</td>\n",
       "      <td>35.0</td>\n",
       "      <td>8.0500</td>\n",
       "      <td>S</td>\n",
       "    </tr>\n",
       "  </tbody>\n",
       "</table>\n",
       "</div>"
      ],
      "text/plain": [
       "   Survived  Pclass     Sex   Age     Fare Embarked\n",
       "0         0       3    male  22.0   7.2500        S\n",
       "1         1       1  female  38.0  71.2833        C\n",
       "2         1       3  female  26.0   7.9250        S\n",
       "3         1       1  female  35.0  53.1000        S\n",
       "4         0       3    male  35.0   8.0500        S"
      ]
     },
     "execution_count": 22,
     "metadata": {},
     "output_type": "execute_result"
    }
   ],
   "source": [
    "train_df.head()"
   ]
  },
  {
   "cell_type": "code",
   "execution_count": 23,
   "id": "60de27de",
   "metadata": {
    "execution": {
     "iopub.execute_input": "2023-04-10T05:15:35.358739Z",
     "iopub.status.busy": "2023-04-10T05:15:35.358315Z",
     "iopub.status.idle": "2023-04-10T05:15:35.370683Z",
     "shell.execute_reply": "2023-04-10T05:15:35.369275Z"
    },
    "papermill": {
     "duration": 0.036932,
     "end_time": "2023-04-10T05:15:35.373429",
     "exception": false,
     "start_time": "2023-04-10T05:15:35.336497",
     "status": "completed"
    },
    "tags": []
   },
   "outputs": [],
   "source": [
    "train_df.dropna(inplace=True)"
   ]
  },
  {
   "cell_type": "markdown",
   "id": "77be29cc",
   "metadata": {
    "papermill": {
     "duration": 0.017642,
     "end_time": "2023-04-10T05:15:35.409645",
     "exception": false,
     "start_time": "2023-04-10T05:15:35.392003",
     "status": "completed"
    },
    "tags": []
   },
   "source": [
    "La fonction 'dropna' est utilisée pour supprimer toutes les lignes de l'ensemble de données 'train_df' qui contiennent des valeurs manquantes (c'est-à-dire des valeurs NaN). Le paramètre 'inplace=True' est utilisé pour modifier directement l'ensemble de données 'train_df', plutôt que de renvoyer un nouvel ensemble de données modifié."
   ]
  },
  {
   "cell_type": "code",
   "execution_count": 24,
   "id": "8520133b",
   "metadata": {
    "execution": {
     "iopub.execute_input": "2023-04-10T05:15:35.448212Z",
     "iopub.status.busy": "2023-04-10T05:15:35.447659Z",
     "iopub.status.idle": "2023-04-10T05:15:35.454434Z",
     "shell.execute_reply": "2023-04-10T05:15:35.453806Z"
    },
    "papermill": {
     "duration": 0.027027,
     "end_time": "2023-04-10T05:15:35.456339",
     "exception": false,
     "start_time": "2023-04-10T05:15:35.429312",
     "status": "completed"
    },
    "tags": []
   },
   "outputs": [
    {
     "data": {
      "text/plain": [
       "Survived    0\n",
       "Pclass      0\n",
       "Sex         0\n",
       "Age         0\n",
       "Fare        0\n",
       "Embarked    0\n",
       "dtype: int64"
      ]
     },
     "execution_count": 24,
     "metadata": {},
     "output_type": "execute_result"
    }
   ],
   "source": [
    "train_df.isna().sum()"
   ]
  },
  {
   "cell_type": "markdown",
   "id": "fafbedc1",
   "metadata": {
    "papermill": {
     "duration": 0.015968,
     "end_time": "2023-04-10T05:15:35.488663",
     "exception": false,
     "start_time": "2023-04-10T05:15:35.472695",
     "status": "completed"
    },
    "tags": []
   },
   "source": [
    "comme nous l'avons vu ci-dessus, il n'y a pas de valeurs nulles "
   ]
  },
  {
   "cell_type": "code",
   "execution_count": 25,
   "id": "3bc66469",
   "metadata": {
    "execution": {
     "iopub.execute_input": "2023-04-10T05:15:35.523838Z",
     "iopub.status.busy": "2023-04-10T05:15:35.523246Z",
     "iopub.status.idle": "2023-04-10T05:15:35.529196Z",
     "shell.execute_reply": "2023-04-10T05:15:35.528214Z"
    },
    "papermill": {
     "duration": 0.026597,
     "end_time": "2023-04-10T05:15:35.531979",
     "exception": false,
     "start_time": "2023-04-10T05:15:35.505382",
     "status": "completed"
    },
    "tags": []
   },
   "outputs": [],
   "source": [
    "train_df.replace({'female':0,'male':1},inplace=True)"
   ]
  },
  {
   "cell_type": "markdown",
   "id": "423e37a0",
   "metadata": {
    "papermill": {
     "duration": 0.018675,
     "end_time": "2023-04-10T05:15:35.567675",
     "exception": false,
     "start_time": "2023-04-10T05:15:35.549000",
     "status": "completed"
    },
    "tags": []
   },
   "source": [
    "La fonction \"replace\" est utilisée pour remplacer les valeurs \"female\" et \"male\" de l'ensemble de données \"train_df\" par 0 et 1, respectivement. Pour ce faire, un dictionnaire contenant les clés \"female\" et \"male\" et les valeurs 0 et 1 correspondantes est transmis à la fonction \"replace\". Le paramètre 'inplace=True' est utilisé pour modifier directement l'ensemble de données 'train_df', plutôt que de renvoyer un nouvel ensemble de données modifié.\n"
   ]
  },
  {
   "cell_type": "code",
   "execution_count": 26,
   "id": "49441310",
   "metadata": {
    "execution": {
     "iopub.execute_input": "2023-04-10T05:15:35.604148Z",
     "iopub.status.busy": "2023-04-10T05:15:35.603730Z",
     "iopub.status.idle": "2023-04-10T05:15:35.613618Z",
     "shell.execute_reply": "2023-04-10T05:15:35.612352Z"
    },
    "papermill": {
     "duration": 0.031998,
     "end_time": "2023-04-10T05:15:35.616772",
     "exception": false,
     "start_time": "2023-04-10T05:15:35.584774",
     "status": "completed"
    },
    "tags": []
   },
   "outputs": [],
   "source": [
    "train_df = pd.get_dummies(train_df,columns=['Embarked'],prefix='Embarked')"
   ]
  },
  {
   "cell_type": "markdown",
   "id": "5cf42b74",
   "metadata": {
    "papermill": {
     "duration": 0.016274,
     "end_time": "2023-04-10T05:15:35.649618",
     "exception": false,
     "start_time": "2023-04-10T05:15:35.633344",
     "status": "completed"
    },
    "tags": []
   },
   "source": [
    "La fonction 'get_dummies' de pandas est utilisée pour créer des variables fictives pour la colonne 'Embarked' dans l'ensemble de données 'train_df'. Pour ce faire, l'ensemble de données \"train_df\" et la colonne \"Embarked\" sont transmis au paramètre \"columns\" de la fonction \"get_dummies\". Le paramètre \"prefix\" est utilisé pour ajouter le préfixe \"Embarked_\" aux noms de colonnes des variables fictives résultantes.\n",
    "\n",
    "L'ensemble de données \"train_df\" qui en résulte contient désormais les nouvelles colonnes \"Embarked_C\", \"Embarked_Q\" et \"Embarked_S\", avec des valeurs binaires (0 ou 1) indiquant si un passager a embarqué dans le port correspondant."
   ]
  },
  {
   "cell_type": "code",
   "execution_count": 27,
   "id": "a78302cb",
   "metadata": {
    "execution": {
     "iopub.execute_input": "2023-04-10T05:15:35.684950Z",
     "iopub.status.busy": "2023-04-10T05:15:35.684277Z",
     "iopub.status.idle": "2023-04-10T05:15:35.697182Z",
     "shell.execute_reply": "2023-04-10T05:15:35.696082Z"
    },
    "papermill": {
     "duration": 0.033464,
     "end_time": "2023-04-10T05:15:35.699445",
     "exception": false,
     "start_time": "2023-04-10T05:15:35.665981",
     "status": "completed"
    },
    "tags": []
   },
   "outputs": [
    {
     "data": {
      "text/html": [
       "<div>\n",
       "<style scoped>\n",
       "    .dataframe tbody tr th:only-of-type {\n",
       "        vertical-align: middle;\n",
       "    }\n",
       "\n",
       "    .dataframe tbody tr th {\n",
       "        vertical-align: top;\n",
       "    }\n",
       "\n",
       "    .dataframe thead th {\n",
       "        text-align: right;\n",
       "    }\n",
       "</style>\n",
       "<table border=\"1\" class=\"dataframe\">\n",
       "  <thead>\n",
       "    <tr style=\"text-align: right;\">\n",
       "      <th></th>\n",
       "      <th>Survived</th>\n",
       "      <th>Pclass</th>\n",
       "      <th>Sex</th>\n",
       "      <th>Age</th>\n",
       "      <th>Fare</th>\n",
       "      <th>Embarked_C</th>\n",
       "      <th>Embarked_Q</th>\n",
       "      <th>Embarked_S</th>\n",
       "    </tr>\n",
       "  </thead>\n",
       "  <tbody>\n",
       "    <tr>\n",
       "      <th>0</th>\n",
       "      <td>0</td>\n",
       "      <td>3</td>\n",
       "      <td>1</td>\n",
       "      <td>22.0</td>\n",
       "      <td>7.2500</td>\n",
       "      <td>0</td>\n",
       "      <td>0</td>\n",
       "      <td>1</td>\n",
       "    </tr>\n",
       "    <tr>\n",
       "      <th>1</th>\n",
       "      <td>1</td>\n",
       "      <td>1</td>\n",
       "      <td>0</td>\n",
       "      <td>38.0</td>\n",
       "      <td>71.2833</td>\n",
       "      <td>1</td>\n",
       "      <td>0</td>\n",
       "      <td>0</td>\n",
       "    </tr>\n",
       "    <tr>\n",
       "      <th>2</th>\n",
       "      <td>1</td>\n",
       "      <td>3</td>\n",
       "      <td>0</td>\n",
       "      <td>26.0</td>\n",
       "      <td>7.9250</td>\n",
       "      <td>0</td>\n",
       "      <td>0</td>\n",
       "      <td>1</td>\n",
       "    </tr>\n",
       "    <tr>\n",
       "      <th>3</th>\n",
       "      <td>1</td>\n",
       "      <td>1</td>\n",
       "      <td>0</td>\n",
       "      <td>35.0</td>\n",
       "      <td>53.1000</td>\n",
       "      <td>0</td>\n",
       "      <td>0</td>\n",
       "      <td>1</td>\n",
       "    </tr>\n",
       "    <tr>\n",
       "      <th>4</th>\n",
       "      <td>0</td>\n",
       "      <td>3</td>\n",
       "      <td>1</td>\n",
       "      <td>35.0</td>\n",
       "      <td>8.0500</td>\n",
       "      <td>0</td>\n",
       "      <td>0</td>\n",
       "      <td>1</td>\n",
       "    </tr>\n",
       "  </tbody>\n",
       "</table>\n",
       "</div>"
      ],
      "text/plain": [
       "   Survived  Pclass  Sex   Age     Fare  Embarked_C  Embarked_Q  Embarked_S\n",
       "0         0       3    1  22.0   7.2500           0           0           1\n",
       "1         1       1    0  38.0  71.2833           1           0           0\n",
       "2         1       3    0  26.0   7.9250           0           0           1\n",
       "3         1       1    0  35.0  53.1000           0           0           1\n",
       "4         0       3    1  35.0   8.0500           0           0           1"
      ]
     },
     "execution_count": 27,
     "metadata": {},
     "output_type": "execute_result"
    }
   ],
   "source": [
    "train_df.head()"
   ]
  },
  {
   "cell_type": "markdown",
   "id": "6c5cb0a7",
   "metadata": {
    "papermill": {
     "duration": 0.017574,
     "end_time": "2023-04-10T05:15:35.733988",
     "exception": false,
     "start_time": "2023-04-10T05:15:35.716414",
     "status": "completed"
    },
    "tags": []
   },
   "source": [
    "### split du données d'entrainement "
   ]
  },
  {
   "cell_type": "code",
   "execution_count": 28,
   "id": "dfe792e2",
   "metadata": {
    "execution": {
     "iopub.execute_input": "2023-04-10T05:15:35.770331Z",
     "iopub.status.busy": "2023-04-10T05:15:35.769292Z",
     "iopub.status.idle": "2023-04-10T05:15:35.784243Z",
     "shell.execute_reply": "2023-04-10T05:15:35.783435Z"
    },
    "papermill": {
     "duration": 0.035875,
     "end_time": "2023-04-10T05:15:35.786757",
     "exception": false,
     "start_time": "2023-04-10T05:15:35.750882",
     "status": "completed"
    },
    "tags": []
   },
   "outputs": [
    {
     "data": {
      "text/html": [
       "<div>\n",
       "<style scoped>\n",
       "    .dataframe tbody tr th:only-of-type {\n",
       "        vertical-align: middle;\n",
       "    }\n",
       "\n",
       "    .dataframe tbody tr th {\n",
       "        vertical-align: top;\n",
       "    }\n",
       "\n",
       "    .dataframe thead th {\n",
       "        text-align: right;\n",
       "    }\n",
       "</style>\n",
       "<table border=\"1\" class=\"dataframe\">\n",
       "  <thead>\n",
       "    <tr style=\"text-align: right;\">\n",
       "      <th></th>\n",
       "      <th>Pclass</th>\n",
       "      <th>Sex</th>\n",
       "      <th>Age</th>\n",
       "      <th>Fare</th>\n",
       "      <th>Embarked_C</th>\n",
       "      <th>Embarked_Q</th>\n",
       "      <th>Embarked_S</th>\n",
       "    </tr>\n",
       "  </thead>\n",
       "  <tbody>\n",
       "    <tr>\n",
       "      <th>0</th>\n",
       "      <td>3</td>\n",
       "      <td>1</td>\n",
       "      <td>22.000000</td>\n",
       "      <td>7.2500</td>\n",
       "      <td>0</td>\n",
       "      <td>0</td>\n",
       "      <td>1</td>\n",
       "    </tr>\n",
       "    <tr>\n",
       "      <th>1</th>\n",
       "      <td>1</td>\n",
       "      <td>0</td>\n",
       "      <td>38.000000</td>\n",
       "      <td>71.2833</td>\n",
       "      <td>1</td>\n",
       "      <td>0</td>\n",
       "      <td>0</td>\n",
       "    </tr>\n",
       "    <tr>\n",
       "      <th>2</th>\n",
       "      <td>3</td>\n",
       "      <td>0</td>\n",
       "      <td>26.000000</td>\n",
       "      <td>7.9250</td>\n",
       "      <td>0</td>\n",
       "      <td>0</td>\n",
       "      <td>1</td>\n",
       "    </tr>\n",
       "    <tr>\n",
       "      <th>3</th>\n",
       "      <td>1</td>\n",
       "      <td>0</td>\n",
       "      <td>35.000000</td>\n",
       "      <td>53.1000</td>\n",
       "      <td>0</td>\n",
       "      <td>0</td>\n",
       "      <td>1</td>\n",
       "    </tr>\n",
       "    <tr>\n",
       "      <th>4</th>\n",
       "      <td>3</td>\n",
       "      <td>1</td>\n",
       "      <td>35.000000</td>\n",
       "      <td>8.0500</td>\n",
       "      <td>0</td>\n",
       "      <td>0</td>\n",
       "      <td>1</td>\n",
       "    </tr>\n",
       "    <tr>\n",
       "      <th>...</th>\n",
       "      <td>...</td>\n",
       "      <td>...</td>\n",
       "      <td>...</td>\n",
       "      <td>...</td>\n",
       "      <td>...</td>\n",
       "      <td>...</td>\n",
       "      <td>...</td>\n",
       "    </tr>\n",
       "    <tr>\n",
       "      <th>886</th>\n",
       "      <td>2</td>\n",
       "      <td>1</td>\n",
       "      <td>27.000000</td>\n",
       "      <td>13.0000</td>\n",
       "      <td>0</td>\n",
       "      <td>0</td>\n",
       "      <td>1</td>\n",
       "    </tr>\n",
       "    <tr>\n",
       "      <th>887</th>\n",
       "      <td>1</td>\n",
       "      <td>0</td>\n",
       "      <td>19.000000</td>\n",
       "      <td>30.0000</td>\n",
       "      <td>0</td>\n",
       "      <td>0</td>\n",
       "      <td>1</td>\n",
       "    </tr>\n",
       "    <tr>\n",
       "      <th>888</th>\n",
       "      <td>3</td>\n",
       "      <td>0</td>\n",
       "      <td>27.915709</td>\n",
       "      <td>23.4500</td>\n",
       "      <td>0</td>\n",
       "      <td>0</td>\n",
       "      <td>1</td>\n",
       "    </tr>\n",
       "    <tr>\n",
       "      <th>889</th>\n",
       "      <td>1</td>\n",
       "      <td>1</td>\n",
       "      <td>26.000000</td>\n",
       "      <td>30.0000</td>\n",
       "      <td>1</td>\n",
       "      <td>0</td>\n",
       "      <td>0</td>\n",
       "    </tr>\n",
       "    <tr>\n",
       "      <th>890</th>\n",
       "      <td>3</td>\n",
       "      <td>1</td>\n",
       "      <td>32.000000</td>\n",
       "      <td>7.7500</td>\n",
       "      <td>0</td>\n",
       "      <td>1</td>\n",
       "      <td>0</td>\n",
       "    </tr>\n",
       "  </tbody>\n",
       "</table>\n",
       "<p>889 rows × 7 columns</p>\n",
       "</div>"
      ],
      "text/plain": [
       "     Pclass  Sex        Age     Fare  Embarked_C  Embarked_Q  Embarked_S\n",
       "0         3    1  22.000000   7.2500           0           0           1\n",
       "1         1    0  38.000000  71.2833           1           0           0\n",
       "2         3    0  26.000000   7.9250           0           0           1\n",
       "3         1    0  35.000000  53.1000           0           0           1\n",
       "4         3    1  35.000000   8.0500           0           0           1\n",
       "..      ...  ...        ...      ...         ...         ...         ...\n",
       "886       2    1  27.000000  13.0000           0           0           1\n",
       "887       1    0  19.000000  30.0000           0           0           1\n",
       "888       3    0  27.915709  23.4500           0           0           1\n",
       "889       1    1  26.000000  30.0000           1           0           0\n",
       "890       3    1  32.000000   7.7500           0           1           0\n",
       "\n",
       "[889 rows x 7 columns]"
      ]
     },
     "execution_count": 28,
     "metadata": {},
     "output_type": "execute_result"
    }
   ],
   "source": [
    "# split data into x and y\n",
    "x = train_df.drop('Survived',axis =1)\n",
    "y = train_df['Survived']\n",
    "x"
   ]
  },
  {
   "cell_type": "markdown",
   "id": "e5073fa4",
   "metadata": {
    "papermill": {
     "duration": 0.016622,
     "end_time": "2023-04-10T05:15:35.820747",
     "exception": false,
     "start_time": "2023-04-10T05:15:35.804125",
     "status": "completed"
    },
    "tags": []
   },
   "source": [
    "Ce code normalise les valeurs des colonnes \"Age\" et \"Fare\" dans le cadre de données \"x\" en utilisant le StandardScaler de la bibliothèque scikit-learn."
   ]
  },
  {
   "cell_type": "code",
   "execution_count": 29,
   "id": "96f8c038",
   "metadata": {
    "execution": {
     "iopub.execute_input": "2023-04-10T05:15:35.856415Z",
     "iopub.status.busy": "2023-04-10T05:15:35.855965Z",
     "iopub.status.idle": "2023-04-10T05:15:35.866025Z",
     "shell.execute_reply": "2023-04-10T05:15:35.865236Z"
    },
    "papermill": {
     "duration": 0.030976,
     "end_time": "2023-04-10T05:15:35.868405",
     "exception": false,
     "start_time": "2023-04-10T05:15:35.837429",
     "status": "completed"
    },
    "tags": []
   },
   "outputs": [],
   "source": [
    "# Select numerical columns\n",
    "num_cols = ['Age', 'Fare']\n",
    "\n",
    "# Create scaler object\n",
    "scaler = StandardScaler()\n",
    "\n",
    "# Fit scaler on selected columns\n",
    "scaler.fit(x[num_cols])\n",
    "\n",
    "# Transform selected columns with scaler\n",
    "x[num_cols] = scaler.transform(x[num_cols])"
   ]
  },
  {
   "cell_type": "code",
   "execution_count": 30,
   "id": "6e9b5555",
   "metadata": {
    "execution": {
     "iopub.execute_input": "2023-04-10T05:15:35.904651Z",
     "iopub.status.busy": "2023-04-10T05:15:35.904257Z",
     "iopub.status.idle": "2023-04-10T05:15:35.913213Z",
     "shell.execute_reply": "2023-04-10T05:15:35.912095Z"
    },
    "papermill": {
     "duration": 0.03042,
     "end_time": "2023-04-10T05:15:35.915940",
     "exception": false,
     "start_time": "2023-04-10T05:15:35.885520",
     "status": "completed"
    },
    "tags": []
   },
   "outputs": [],
   "source": [
    "# split train data into train and test\n",
    "x_train, x_test, y_train, y_test = train_test_split(x, y, test_size=0.2, random_state=10)"
   ]
  },
  {
   "cell_type": "markdown",
   "id": "d59d7d19",
   "metadata": {
    "papermill": {
     "duration": 0.017124,
     "end_time": "2023-04-10T05:15:35.950248",
     "exception": false,
     "start_time": "2023-04-10T05:15:35.933124",
     "status": "completed"
    },
    "tags": []
   },
   "source": [
    "# modélisation"
   ]
  },
  {
   "cell_type": "code",
   "execution_count": 37,
   "id": "1e70780c",
   "metadata": {
    "execution": {
     "iopub.execute_input": "2023-04-10T05:15:35.986736Z",
     "iopub.status.busy": "2023-04-10T05:15:35.986370Z",
     "iopub.status.idle": "2023-04-10T05:15:39.144191Z",
     "shell.execute_reply": "2023-04-10T05:15:39.142701Z"
    },
    "papermill": {
     "duration": 3.179313,
     "end_time": "2023-04-10T05:15:39.146880",
     "exception": false,
     "start_time": "2023-04-10T05:15:35.967567",
     "status": "completed"
    },
    "tags": []
   },
   "outputs": [
    {
     "name": "stdout",
     "output_type": "stream",
     "text": [
      "Logistic Regression accuracy (cross-validation): 0.788 +/- 0.044\n",
      "Accuracy: 0.803\n",
      "Precision: 0.733\n",
      "Recall: 0.698\n",
      "F1-score: 0.715\n",
      "\n",
      "Decision Tree accuracy (cross-validation): 0.761 +/- 0.020\n",
      "Accuracy: 0.815\n",
      "Precision: 0.727\n",
      "Recall: 0.762\n",
      "F1-score: 0.744\n",
      "\n",
      "Random Forest accuracy (cross-validation): 0.799 +/- 0.046\n",
      "Accuracy: 0.860\n",
      "Precision: 0.817\n",
      "Recall: 0.778\n",
      "F1-score: 0.797\n",
      "\n",
      "SVM accuracy (cross-validation): 0.779 +/- 0.041\n",
      "Accuracy: 0.837\n",
      "Precision: 0.804\n",
      "Recall: 0.714\n",
      "F1-score: 0.756\n",
      "\n",
      "XGBClassifier accuracy (cross-validation): 0.786 +/- 0.026\n",
      "Accuracy: 0.843\n",
      "Precision: 0.769\n",
      "Recall: 0.794\n",
      "F1-score: 0.781\n",
      "\n",
      "GradientBoostingClassifier accuracy (cross-validation): 0.817 +/- 0.045\n",
      "Accuracy: 0.854\n",
      "Precision: 0.825\n",
      "Recall: 0.746\n",
      "F1-score: 0.783\n",
      "\n",
      "AdaBoostClassifier accuracy (cross-validation): 0.778 +/- 0.046\n",
      "Accuracy: 0.837\n",
      "Precision: 0.774\n",
      "Recall: 0.762\n",
      "F1-score: 0.768\n",
      "\n"
     ]
    }
   ],
   "source": [
    "from sklearn.linear_model import LogisticRegression\n",
    "from sklearn.tree import DecisionTreeClassifier\n",
    "from sklearn.ensemble import RandomForestClassifier, GradientBoostingClassifier, AdaBoostClassifier\n",
    "from sklearn.svm import SVC\n",
    "from xgboost import XGBClassifier\n",
    "from sklearn.model_selection import cross_val_score\n",
    "from sklearn.metrics import accuracy_score, precision_score, recall_score, f1_score\n",
    "\n",
    "# Assuming x_train and y_train are your training data and x_test and y_test are your testing data.\n",
    "\n",
    "# Initialize the models\n",
    "models = {\n",
    "    'Logistic Regression': LogisticRegression(),\n",
    "    'Decision Tree': DecisionTreeClassifier(),\n",
    "    'Random Forest': RandomForestClassifier(),\n",
    "    'SVM': SVC(),\n",
    "    'XGBClassifier': XGBClassifier(),\n",
    "    'GradientBoostingClassifier': GradientBoostingClassifier(),\n",
    "    'AdaBoostClassifier': AdaBoostClassifier()\n",
    "}\n",
    "\n",
    "# Train and evaluate each model using cross-validation\n",
    "for name, model in models.items():\n",
    "    scores = cross_val_score(model, x_train, y_train, cv=5, scoring='accuracy')\n",
    "    print(f\"{name} accuracy (cross-validation): {scores.mean():.3f} +/- {scores.std():.3f}\")\n",
    "    \n",
    "    # Fit the model to the full training set and make predictions on the test set\n",
    "    model.fit(x_train, y_train)\n",
    "    y_pred = model.predict(x_test)\n",
    "    \n",
    "    # Evaluate the model on the test set\n",
    "    acc = accuracy_score(y_test, y_pred)\n",
    "    prec = precision_score(y_test, y_pred)\n",
    "    rec = recall_score(y_test, y_pred)\n",
    "    f1 = f1_score(y_test, y_pred)\n",
    "    \n",
    "    print(f\"Accuracy: {acc:.3f}\")\n",
    "    print(f\"Precision: {prec:.3f}\")\n",
    "    print(f\"Recall: {rec:.3f}\")\n",
    "    print(f\"F1-score: {f1:.3f}\")\n",
    "    print()"
   ]
  },
  {
   "cell_type": "markdown",
   "id": "c9022e93",
   "metadata": {
    "papermill": {
     "duration": 0.017955,
     "end_time": "2023-04-10T05:15:39.182692",
     "exception": false,
     "start_time": "2023-04-10T05:15:39.164737",
     "status": "completed"
    },
    "tags": []
   },
   "source": [
    "Après avoir comparé la précision de plusieurs modèles, nous avons constaté que le modèle GradientBoostingClassifier avait la plus grande précision.\n",
    "\n",
    "Je vais donc l'utiliser pour faire une prédiction sur l'ensemble de test."
   ]
  },
  {
   "cell_type": "code",
   "execution_count": 38,
   "id": "787c0715",
   "metadata": {
    "execution": {
     "iopub.execute_input": "2023-04-10T05:15:39.220710Z",
     "iopub.status.busy": "2023-04-10T05:15:39.220295Z",
     "iopub.status.idle": "2023-04-10T05:15:39.688199Z",
     "shell.execute_reply": "2023-04-10T05:15:39.686799Z"
    },
    "papermill": {
     "duration": 0.489857,
     "end_time": "2023-04-10T05:15:39.691052",
     "exception": false,
     "start_time": "2023-04-10T05:15:39.201195",
     "status": "completed"
    },
    "tags": []
   },
   "outputs": [
    {
     "name": "stdout",
     "output_type": "stream",
     "text": [
      "GradientBoostingClassifier() accuracy: [0.82517483 0.85211268 0.73943662 0.8028169  0.86619718]\n",
      "0.8539325842696629\n"
     ]
    }
   ],
   "source": [
    "gbc= GradientBoostingClassifier()\n",
    "scores = cross_val_score(gbc, x_train, y_train, cv=5, scoring='accuracy')\n",
    "print(f\"{gbc} accuracy: {scores}\")\n",
    "    \n",
    "# Fit the model to the full training set and make predictions on the test set\n",
    "gbc.fit(x_train, y_train)\n",
    "y_pred = gbc.predict(x_test)\n",
    "# Evaluate the model on the test set\n",
    "acc = accuracy_score(y_test, y_pred)\n",
    "print (acc)"
   ]
  },
  {
   "cell_type": "markdown",
   "id": "22895774",
   "metadata": {
    "papermill": {
     "duration": 0.017191,
     "end_time": "2023-04-10T05:15:39.725978",
     "exception": false,
     "start_time": "2023-04-10T05:15:39.708787",
     "status": "completed"
    },
    "tags": []
   },
   "source": [
    "# Préparation des données de test"
   ]
  },
  {
   "cell_type": "code",
   "execution_count": 39,
   "id": "da4a4364",
   "metadata": {
    "execution": {
     "iopub.execute_input": "2023-04-10T05:15:39.763383Z",
     "iopub.status.busy": "2023-04-10T05:15:39.762955Z",
     "iopub.status.idle": "2023-04-10T05:15:39.778958Z",
     "shell.execute_reply": "2023-04-10T05:15:39.777493Z"
    },
    "papermill": {
     "duration": 0.03786,
     "end_time": "2023-04-10T05:15:39.781651",
     "exception": false,
     "start_time": "2023-04-10T05:15:39.743791",
     "status": "completed"
    },
    "tags": []
   },
   "outputs": [
    {
     "data": {
      "text/html": [
       "<div>\n",
       "<style scoped>\n",
       "    .dataframe tbody tr th:only-of-type {\n",
       "        vertical-align: middle;\n",
       "    }\n",
       "\n",
       "    .dataframe tbody tr th {\n",
       "        vertical-align: top;\n",
       "    }\n",
       "\n",
       "    .dataframe thead th {\n",
       "        text-align: right;\n",
       "    }\n",
       "</style>\n",
       "<table border=\"1\" class=\"dataframe\">\n",
       "  <thead>\n",
       "    <tr style=\"text-align: right;\">\n",
       "      <th></th>\n",
       "      <th>PassengerId</th>\n",
       "      <th>Pclass</th>\n",
       "      <th>Name</th>\n",
       "      <th>Sex</th>\n",
       "      <th>Age</th>\n",
       "      <th>SibSp</th>\n",
       "      <th>Parch</th>\n",
       "      <th>Ticket</th>\n",
       "      <th>Fare</th>\n",
       "      <th>Cabin</th>\n",
       "      <th>Embarked</th>\n",
       "    </tr>\n",
       "  </thead>\n",
       "  <tbody>\n",
       "    <tr>\n",
       "      <th>0</th>\n",
       "      <td>892</td>\n",
       "      <td>3</td>\n",
       "      <td>Kelly, Mr. James</td>\n",
       "      <td>male</td>\n",
       "      <td>34.5</td>\n",
       "      <td>0</td>\n",
       "      <td>0</td>\n",
       "      <td>330911</td>\n",
       "      <td>7.8292</td>\n",
       "      <td>NaN</td>\n",
       "      <td>Q</td>\n",
       "    </tr>\n",
       "    <tr>\n",
       "      <th>1</th>\n",
       "      <td>893</td>\n",
       "      <td>3</td>\n",
       "      <td>Wilkes, Mrs. James (Ellen Needs)</td>\n",
       "      <td>female</td>\n",
       "      <td>47.0</td>\n",
       "      <td>1</td>\n",
       "      <td>0</td>\n",
       "      <td>363272</td>\n",
       "      <td>7.0000</td>\n",
       "      <td>NaN</td>\n",
       "      <td>S</td>\n",
       "    </tr>\n",
       "    <tr>\n",
       "      <th>2</th>\n",
       "      <td>894</td>\n",
       "      <td>2</td>\n",
       "      <td>Myles, Mr. Thomas Francis</td>\n",
       "      <td>male</td>\n",
       "      <td>62.0</td>\n",
       "      <td>0</td>\n",
       "      <td>0</td>\n",
       "      <td>240276</td>\n",
       "      <td>9.6875</td>\n",
       "      <td>NaN</td>\n",
       "      <td>Q</td>\n",
       "    </tr>\n",
       "    <tr>\n",
       "      <th>3</th>\n",
       "      <td>895</td>\n",
       "      <td>3</td>\n",
       "      <td>Wirz, Mr. Albert</td>\n",
       "      <td>male</td>\n",
       "      <td>27.0</td>\n",
       "      <td>0</td>\n",
       "      <td>0</td>\n",
       "      <td>315154</td>\n",
       "      <td>8.6625</td>\n",
       "      <td>NaN</td>\n",
       "      <td>S</td>\n",
       "    </tr>\n",
       "    <tr>\n",
       "      <th>4</th>\n",
       "      <td>896</td>\n",
       "      <td>3</td>\n",
       "      <td>Hirvonen, Mrs. Alexander (Helga E Lindqvist)</td>\n",
       "      <td>female</td>\n",
       "      <td>22.0</td>\n",
       "      <td>1</td>\n",
       "      <td>1</td>\n",
       "      <td>3101298</td>\n",
       "      <td>12.2875</td>\n",
       "      <td>NaN</td>\n",
       "      <td>S</td>\n",
       "    </tr>\n",
       "  </tbody>\n",
       "</table>\n",
       "</div>"
      ],
      "text/plain": [
       "   PassengerId  Pclass                                          Name     Sex  \\\n",
       "0          892       3                              Kelly, Mr. James    male   \n",
       "1          893       3              Wilkes, Mrs. James (Ellen Needs)  female   \n",
       "2          894       2                     Myles, Mr. Thomas Francis    male   \n",
       "3          895       3                              Wirz, Mr. Albert    male   \n",
       "4          896       3  Hirvonen, Mrs. Alexander (Helga E Lindqvist)  female   \n",
       "\n",
       "    Age  SibSp  Parch   Ticket     Fare Cabin Embarked  \n",
       "0  34.5      0      0   330911   7.8292   NaN        Q  \n",
       "1  47.0      1      0   363272   7.0000   NaN        S  \n",
       "2  62.0      0      0   240276   9.6875   NaN        Q  \n",
       "3  27.0      0      0   315154   8.6625   NaN        S  \n",
       "4  22.0      1      1  3101298  12.2875   NaN        S  "
      ]
     },
     "execution_count": 39,
     "metadata": {},
     "output_type": "execute_result"
    }
   ],
   "source": [
    "# show the first 5 columns \n",
    "test.head()"
   ]
  },
  {
   "cell_type": "code",
   "execution_count": 42,
   "id": "df35d5a7",
   "metadata": {
    "execution": {
     "iopub.execute_input": "2023-04-10T05:15:39.819901Z",
     "iopub.status.busy": "2023-04-10T05:15:39.819463Z",
     "iopub.status.idle": "2023-04-10T05:15:39.834014Z",
     "shell.execute_reply": "2023-04-10T05:15:39.833310Z"
    },
    "papermill": {
     "duration": 0.035507,
     "end_time": "2023-04-10T05:15:39.835749",
     "exception": false,
     "start_time": "2023-04-10T05:15:39.800242",
     "status": "completed"
    },
    "tags": []
   },
   "outputs": [
    {
     "ename": "KeyError",
     "evalue": "'Cabin'",
     "output_type": "error",
     "traceback": [
      "\u001b[1;31m---------------------------------------------------------------------------\u001b[0m",
      "\u001b[1;31mKeyError\u001b[0m                                  Traceback (most recent call last)",
      "\u001b[1;32m~\\anaconda3\\lib\\site-packages\\pandas\\core\\indexes\\base.py\u001b[0m in \u001b[0;36mget_loc\u001b[1;34m(self, key, method, tolerance)\u001b[0m\n\u001b[0;32m   3628\u001b[0m             \u001b[1;32mtry\u001b[0m\u001b[1;33m:\u001b[0m\u001b[1;33m\u001b[0m\u001b[1;33m\u001b[0m\u001b[0m\n\u001b[1;32m-> 3629\u001b[1;33m                 \u001b[1;32mreturn\u001b[0m \u001b[0mself\u001b[0m\u001b[1;33m.\u001b[0m\u001b[0m_engine\u001b[0m\u001b[1;33m.\u001b[0m\u001b[0mget_loc\u001b[0m\u001b[1;33m(\u001b[0m\u001b[0mcasted_key\u001b[0m\u001b[1;33m)\u001b[0m\u001b[1;33m\u001b[0m\u001b[1;33m\u001b[0m\u001b[0m\n\u001b[0m\u001b[0;32m   3630\u001b[0m             \u001b[1;32mexcept\u001b[0m \u001b[0mKeyError\u001b[0m \u001b[1;32mas\u001b[0m \u001b[0merr\u001b[0m\u001b[1;33m:\u001b[0m\u001b[1;33m\u001b[0m\u001b[1;33m\u001b[0m\u001b[0m\n",
      "\u001b[1;32m~\\anaconda3\\lib\\site-packages\\pandas\\_libs\\index.pyx\u001b[0m in \u001b[0;36mpandas._libs.index.IndexEngine.get_loc\u001b[1;34m()\u001b[0m\n",
      "\u001b[1;32m~\\anaconda3\\lib\\site-packages\\pandas\\_libs\\index.pyx\u001b[0m in \u001b[0;36mpandas._libs.index.IndexEngine.get_loc\u001b[1;34m()\u001b[0m\n",
      "\u001b[1;32mpandas\\_libs\\hashtable_class_helper.pxi\u001b[0m in \u001b[0;36mpandas._libs.hashtable.PyObjectHashTable.get_item\u001b[1;34m()\u001b[0m\n",
      "\u001b[1;32mpandas\\_libs\\hashtable_class_helper.pxi\u001b[0m in \u001b[0;36mpandas._libs.hashtable.PyObjectHashTable.get_item\u001b[1;34m()\u001b[0m\n",
      "\u001b[1;31mKeyError\u001b[0m: 'Cabin'",
      "\nThe above exception was the direct cause of the following exception:\n",
      "\u001b[1;31mKeyError\u001b[0m                                  Traceback (most recent call last)",
      "\u001b[1;32m~\\AppData\\Local\\Temp\\ipykernel_14384\\2668546547.py\u001b[0m in \u001b[0;36m<module>\u001b[1;34m\u001b[0m\n\u001b[0;32m      9\u001b[0m \u001b[1;33m\u001b[0m\u001b[0m\n\u001b[0;32m     10\u001b[0m \u001b[1;31m# Transform the 'Cabin' feature into a binary variable indicating whether the cabin is known or not\u001b[0m\u001b[1;33m\u001b[0m\u001b[1;33m\u001b[0m\u001b[0m\n\u001b[1;32m---> 11\u001b[1;33m \u001b[0mtest\u001b[0m\u001b[1;33m[\u001b[0m\u001b[1;34m'Cabin_known'\u001b[0m\u001b[1;33m]\u001b[0m \u001b[1;33m=\u001b[0m \u001b[0mtest\u001b[0m\u001b[1;33m[\u001b[0m\u001b[1;34m'Cabin'\u001b[0m\u001b[1;33m]\u001b[0m\u001b[1;33m.\u001b[0m\u001b[0mnotnull\u001b[0m\u001b[1;33m(\u001b[0m\u001b[1;33m)\u001b[0m\u001b[1;33m.\u001b[0m\u001b[0mastype\u001b[0m\u001b[1;33m(\u001b[0m\u001b[0mint\u001b[0m\u001b[1;33m)\u001b[0m\u001b[1;33m\u001b[0m\u001b[1;33m\u001b[0m\u001b[0m\n\u001b[0m\u001b[0;32m     12\u001b[0m \u001b[1;33m\u001b[0m\u001b[0m\n\u001b[0;32m     13\u001b[0m \u001b[1;31m# Transform the 'Embarked' feature into a set of binary variables, one for each possible value\u001b[0m\u001b[1;33m\u001b[0m\u001b[1;33m\u001b[0m\u001b[0m\n",
      "\u001b[1;32m~\\anaconda3\\lib\\site-packages\\pandas\\core\\frame.py\u001b[0m in \u001b[0;36m__getitem__\u001b[1;34m(self, key)\u001b[0m\n\u001b[0;32m   3503\u001b[0m             \u001b[1;32mif\u001b[0m \u001b[0mself\u001b[0m\u001b[1;33m.\u001b[0m\u001b[0mcolumns\u001b[0m\u001b[1;33m.\u001b[0m\u001b[0mnlevels\u001b[0m \u001b[1;33m>\u001b[0m \u001b[1;36m1\u001b[0m\u001b[1;33m:\u001b[0m\u001b[1;33m\u001b[0m\u001b[1;33m\u001b[0m\u001b[0m\n\u001b[0;32m   3504\u001b[0m                 \u001b[1;32mreturn\u001b[0m \u001b[0mself\u001b[0m\u001b[1;33m.\u001b[0m\u001b[0m_getitem_multilevel\u001b[0m\u001b[1;33m(\u001b[0m\u001b[0mkey\u001b[0m\u001b[1;33m)\u001b[0m\u001b[1;33m\u001b[0m\u001b[1;33m\u001b[0m\u001b[0m\n\u001b[1;32m-> 3505\u001b[1;33m             \u001b[0mindexer\u001b[0m \u001b[1;33m=\u001b[0m \u001b[0mself\u001b[0m\u001b[1;33m.\u001b[0m\u001b[0mcolumns\u001b[0m\u001b[1;33m.\u001b[0m\u001b[0mget_loc\u001b[0m\u001b[1;33m(\u001b[0m\u001b[0mkey\u001b[0m\u001b[1;33m)\u001b[0m\u001b[1;33m\u001b[0m\u001b[1;33m\u001b[0m\u001b[0m\n\u001b[0m\u001b[0;32m   3506\u001b[0m             \u001b[1;32mif\u001b[0m \u001b[0mis_integer\u001b[0m\u001b[1;33m(\u001b[0m\u001b[0mindexer\u001b[0m\u001b[1;33m)\u001b[0m\u001b[1;33m:\u001b[0m\u001b[1;33m\u001b[0m\u001b[1;33m\u001b[0m\u001b[0m\n\u001b[0;32m   3507\u001b[0m                 \u001b[0mindexer\u001b[0m \u001b[1;33m=\u001b[0m \u001b[1;33m[\u001b[0m\u001b[0mindexer\u001b[0m\u001b[1;33m]\u001b[0m\u001b[1;33m\u001b[0m\u001b[1;33m\u001b[0m\u001b[0m\n",
      "\u001b[1;32m~\\anaconda3\\lib\\site-packages\\pandas\\core\\indexes\\base.py\u001b[0m in \u001b[0;36mget_loc\u001b[1;34m(self, key, method, tolerance)\u001b[0m\n\u001b[0;32m   3629\u001b[0m                 \u001b[1;32mreturn\u001b[0m \u001b[0mself\u001b[0m\u001b[1;33m.\u001b[0m\u001b[0m_engine\u001b[0m\u001b[1;33m.\u001b[0m\u001b[0mget_loc\u001b[0m\u001b[1;33m(\u001b[0m\u001b[0mcasted_key\u001b[0m\u001b[1;33m)\u001b[0m\u001b[1;33m\u001b[0m\u001b[1;33m\u001b[0m\u001b[0m\n\u001b[0;32m   3630\u001b[0m             \u001b[1;32mexcept\u001b[0m \u001b[0mKeyError\u001b[0m \u001b[1;32mas\u001b[0m \u001b[0merr\u001b[0m\u001b[1;33m:\u001b[0m\u001b[1;33m\u001b[0m\u001b[1;33m\u001b[0m\u001b[0m\n\u001b[1;32m-> 3631\u001b[1;33m                 \u001b[1;32mraise\u001b[0m \u001b[0mKeyError\u001b[0m\u001b[1;33m(\u001b[0m\u001b[0mkey\u001b[0m\u001b[1;33m)\u001b[0m \u001b[1;32mfrom\u001b[0m \u001b[0merr\u001b[0m\u001b[1;33m\u001b[0m\u001b[1;33m\u001b[0m\u001b[0m\n\u001b[0m\u001b[0;32m   3632\u001b[0m             \u001b[1;32mexcept\u001b[0m \u001b[0mTypeError\u001b[0m\u001b[1;33m:\u001b[0m\u001b[1;33m\u001b[0m\u001b[1;33m\u001b[0m\u001b[0m\n\u001b[0;32m   3633\u001b[0m                 \u001b[1;31m# If we have a listlike key, _check_indexing_error will raise\u001b[0m\u001b[1;33m\u001b[0m\u001b[1;33m\u001b[0m\u001b[0m\n",
      "\u001b[1;31mKeyError\u001b[0m: 'Cabin'"
     ]
    }
   ],
   "source": [
    "# fill the null value that in the age column\n",
    "mean_male_test = test[test['Sex']=='male']['Age'].mean()\n",
    "mean_female_test = test[test['Sex']=='female']['Age'].mean()\n",
    "test.loc[test['Sex']=='male', 'Age'] = test[test['Sex']=='male']['Age'].fillna(value=mean_male_test)\n",
    "test.loc[test['Sex']=='female', 'Age'] = test[test['Sex']=='female']['Age'].fillna(value=mean_female_test)\n",
    "\n",
    "# fill the null values that in the Fare column\n",
    "test['Fare'].fillna(test['Fare'].median(), inplace = True)\n",
    "\n",
    "# Dropping some unimportant features\n",
    "test.drop(['SibSp','Parch','Ticket','Cabin','Name'], axis=1, inplace= True)"
   ]
  },
  {
   "cell_type": "code",
   "execution_count": 43,
   "id": "0272ef9c",
   "metadata": {
    "execution": {
     "iopub.execute_input": "2023-04-10T05:15:39.871600Z",
     "iopub.status.busy": "2023-04-10T05:15:39.871147Z",
     "iopub.status.idle": "2023-04-10T05:15:39.881208Z",
     "shell.execute_reply": "2023-04-10T05:15:39.880105Z"
    },
    "papermill": {
     "duration": 0.031446,
     "end_time": "2023-04-10T05:15:39.884234",
     "exception": false,
     "start_time": "2023-04-10T05:15:39.852788",
     "status": "completed"
    },
    "tags": []
   },
   "outputs": [
    {
     "data": {
      "text/plain": [
       "PassengerId    0\n",
       "Pclass         0\n",
       "Sex            0\n",
       "Age            0\n",
       "Fare           0\n",
       "Embarked       0\n",
       "dtype: int64"
      ]
     },
     "execution_count": 43,
     "metadata": {},
     "output_type": "execute_result"
    }
   ],
   "source": [
    "test.isna().sum()"
   ]
  },
  {
   "cell_type": "markdown",
   "id": "f541c549",
   "metadata": {
    "papermill": {
     "duration": 0.017798,
     "end_time": "2023-04-10T05:15:39.920078",
     "exception": false,
     "start_time": "2023-04-10T05:15:39.902280",
     "status": "completed"
    },
    "tags": []
   },
   "source": [
    "comme nous l'avons vu plus haut, il n'y a pas de valeurs nulles"
   ]
  },
  {
   "cell_type": "code",
   "execution_count": 44,
   "id": "9c270dda",
   "metadata": {
    "execution": {
     "iopub.execute_input": "2023-04-10T05:15:39.958182Z",
     "iopub.status.busy": "2023-04-10T05:15:39.957753Z",
     "iopub.status.idle": "2023-04-10T05:15:39.965802Z",
     "shell.execute_reply": "2023-04-10T05:15:39.964370Z"
    },
    "papermill": {
     "duration": 0.030756,
     "end_time": "2023-04-10T05:15:39.968560",
     "exception": false,
     "start_time": "2023-04-10T05:15:39.937804",
     "status": "completed"
    },
    "tags": []
   },
   "outputs": [],
   "source": [
    "# convert string values to numeric by replace the female and male by 0 and 1\n",
    "test.replace({'female':0,'male':1},inplace=True)"
   ]
  },
  {
   "cell_type": "code",
   "execution_count": 45,
   "id": "5565a84a",
   "metadata": {
    "execution": {
     "iopub.execute_input": "2023-04-10T05:15:40.008853Z",
     "iopub.status.busy": "2023-04-10T05:15:40.008458Z",
     "iopub.status.idle": "2023-04-10T05:15:40.017639Z",
     "shell.execute_reply": "2023-04-10T05:15:40.015956Z"
    },
    "papermill": {
     "duration": 0.033491,
     "end_time": "2023-04-10T05:15:40.020500",
     "exception": false,
     "start_time": "2023-04-10T05:15:39.987009",
     "status": "completed"
    },
    "tags": []
   },
   "outputs": [],
   "source": [
    "# using one hot encoder to convertr str values \n",
    "test = pd.get_dummies(test,columns=['Embarked'],prefix='Embarked')"
   ]
  },
  {
   "cell_type": "code",
   "execution_count": 46,
   "id": "bfa0d4df",
   "metadata": {
    "execution": {
     "iopub.execute_input": "2023-04-10T05:15:40.058591Z",
     "iopub.status.busy": "2023-04-10T05:15:40.058212Z",
     "iopub.status.idle": "2023-04-10T05:15:40.070601Z",
     "shell.execute_reply": "2023-04-10T05:15:40.069167Z"
    },
    "papermill": {
     "duration": 0.0344,
     "end_time": "2023-04-10T05:15:40.073177",
     "exception": false,
     "start_time": "2023-04-10T05:15:40.038777",
     "status": "completed"
    },
    "tags": []
   },
   "outputs": [],
   "source": [
    "# Fit scaler on numeric columns\n",
    "scaler.fit(test[num_cols])\n",
    "\n",
    "# Transform numeric columns with scaler\n",
    "test[num_cols] = scaler.transform(test[num_cols])"
   ]
  },
  {
   "cell_type": "code",
   "execution_count": 47,
   "id": "d5647ecc",
   "metadata": {
    "execution": {
     "iopub.execute_input": "2023-04-10T05:15:40.111033Z",
     "iopub.status.busy": "2023-04-10T05:15:40.110693Z",
     "iopub.status.idle": "2023-04-10T05:15:40.123885Z",
     "shell.execute_reply": "2023-04-10T05:15:40.122190Z"
    },
    "papermill": {
     "duration": 0.033945,
     "end_time": "2023-04-10T05:15:40.125845",
     "exception": false,
     "start_time": "2023-04-10T05:15:40.091900",
     "status": "completed"
    },
    "tags": []
   },
   "outputs": [
    {
     "data": {
      "text/html": [
       "<div>\n",
       "<style scoped>\n",
       "    .dataframe tbody tr th:only-of-type {\n",
       "        vertical-align: middle;\n",
       "    }\n",
       "\n",
       "    .dataframe tbody tr th {\n",
       "        vertical-align: top;\n",
       "    }\n",
       "\n",
       "    .dataframe thead th {\n",
       "        text-align: right;\n",
       "    }\n",
       "</style>\n",
       "<table border=\"1\" class=\"dataframe\">\n",
       "  <thead>\n",
       "    <tr style=\"text-align: right;\">\n",
       "      <th></th>\n",
       "      <th>PassengerId</th>\n",
       "      <th>Pclass</th>\n",
       "      <th>Sex</th>\n",
       "      <th>Age</th>\n",
       "      <th>Fare</th>\n",
       "      <th>Embarked_C</th>\n",
       "      <th>Embarked_Q</th>\n",
       "      <th>Embarked_S</th>\n",
       "    </tr>\n",
       "  </thead>\n",
       "  <tbody>\n",
       "    <tr>\n",
       "      <th>0</th>\n",
       "      <td>892</td>\n",
       "      <td>3</td>\n",
       "      <td>1</td>\n",
       "      <td>0.334992</td>\n",
       "      <td>-0.497413</td>\n",
       "      <td>0</td>\n",
       "      <td>1</td>\n",
       "      <td>0</td>\n",
       "    </tr>\n",
       "    <tr>\n",
       "      <th>1</th>\n",
       "      <td>893</td>\n",
       "      <td>3</td>\n",
       "      <td>0</td>\n",
       "      <td>1.325529</td>\n",
       "      <td>-0.512278</td>\n",
       "      <td>0</td>\n",
       "      <td>0</td>\n",
       "      <td>1</td>\n",
       "    </tr>\n",
       "    <tr>\n",
       "      <th>2</th>\n",
       "      <td>894</td>\n",
       "      <td>2</td>\n",
       "      <td>1</td>\n",
       "      <td>2.514174</td>\n",
       "      <td>-0.464100</td>\n",
       "      <td>0</td>\n",
       "      <td>1</td>\n",
       "      <td>0</td>\n",
       "    </tr>\n",
       "    <tr>\n",
       "      <th>3</th>\n",
       "      <td>895</td>\n",
       "      <td>3</td>\n",
       "      <td>1</td>\n",
       "      <td>-0.259330</td>\n",
       "      <td>-0.482475</td>\n",
       "      <td>0</td>\n",
       "      <td>0</td>\n",
       "      <td>1</td>\n",
       "    </tr>\n",
       "    <tr>\n",
       "      <th>4</th>\n",
       "      <td>896</td>\n",
       "      <td>3</td>\n",
       "      <td>0</td>\n",
       "      <td>-0.655545</td>\n",
       "      <td>-0.417492</td>\n",
       "      <td>0</td>\n",
       "      <td>0</td>\n",
       "      <td>1</td>\n",
       "    </tr>\n",
       "  </tbody>\n",
       "</table>\n",
       "</div>"
      ],
      "text/plain": [
       "   PassengerId  Pclass  Sex       Age      Fare  Embarked_C  Embarked_Q  \\\n",
       "0          892       3    1  0.334992 -0.497413           0           1   \n",
       "1          893       3    0  1.325529 -0.512278           0           0   \n",
       "2          894       2    1  2.514174 -0.464100           0           1   \n",
       "3          895       3    1 -0.259330 -0.482475           0           0   \n",
       "4          896       3    0 -0.655545 -0.417492           0           0   \n",
       "\n",
       "   Embarked_S  \n",
       "0           0  \n",
       "1           1  \n",
       "2           0  \n",
       "3           1  \n",
       "4           1  "
      ]
     },
     "execution_count": 47,
     "metadata": {},
     "output_type": "execute_result"
    }
   ],
   "source": [
    "test.head()"
   ]
  },
  {
   "cell_type": "code",
   "execution_count": 48,
   "id": "a322ebec",
   "metadata": {
    "execution": {
     "iopub.execute_input": "2023-04-10T05:15:40.162460Z",
     "iopub.status.busy": "2023-04-10T05:15:40.162084Z",
     "iopub.status.idle": "2023-04-10T05:15:40.169778Z",
     "shell.execute_reply": "2023-04-10T05:15:40.167834Z"
    },
    "papermill": {
     "duration": 0.028645,
     "end_time": "2023-04-10T05:15:40.171971",
     "exception": false,
     "start_time": "2023-04-10T05:15:40.143326",
     "status": "completed"
    },
    "tags": []
   },
   "outputs": [],
   "source": [
    "#Store the PassengerId column in a separate variable\n",
    "\n",
    "PassengerId = test['PassengerId']\n",
    "\n",
    "# drop PassengerId column from the test set\n",
    "test.drop('PassengerId',axis=1,inplace=True)"
   ]
  },
  {
   "cell_type": "markdown",
   "id": "dd4096b3",
   "metadata": {
    "papermill": {
     "duration": 0.019944,
     "end_time": "2023-04-10T05:15:40.209965",
     "exception": false,
     "start_time": "2023-04-10T05:15:40.190021",
     "status": "completed"
    },
    "tags": []
   },
   "source": [
    "# Prédictions et soumissions"
   ]
  },
  {
   "cell_type": "code",
   "execution_count": 49,
   "id": "b46379af",
   "metadata": {
    "execution": {
     "iopub.execute_input": "2023-04-10T05:15:40.248886Z",
     "iopub.status.busy": "2023-04-10T05:15:40.248489Z",
     "iopub.status.idle": "2023-04-10T05:15:40.257372Z",
     "shell.execute_reply": "2023-04-10T05:15:40.256235Z"
    },
    "papermill": {
     "duration": 0.03103,
     "end_time": "2023-04-10T05:15:40.259509",
     "exception": false,
     "start_time": "2023-04-10T05:15:40.228479",
     "status": "completed"
    },
    "tags": []
   },
   "outputs": [],
   "source": [
    "# #Generate predictions for the test data using GradientBoostingClassifier \n",
    "test_pred = gbc.predict(test)"
   ]
  },
  {
   "cell_type": "markdown",
   "id": "fdce257a",
   "metadata": {
    "papermill": {
     "duration": 0.017475,
     "end_time": "2023-04-10T05:15:40.295098",
     "exception": false,
     "start_time": "2023-04-10T05:15:40.277623",
     "status": "completed"
    },
    "tags": []
   },
   "source": [
    "\n",
    "Créer un fichier de soumission avec la colonne PassengerId et les résultats de survie prédits.\n"
   ]
  },
  {
   "cell_type": "code",
   "execution_count": 50,
   "id": "455ab065",
   "metadata": {
    "execution": {
     "iopub.execute_input": "2023-04-10T05:15:40.333795Z",
     "iopub.status.busy": "2023-04-10T05:15:40.333377Z",
     "iopub.status.idle": "2023-04-10T05:15:40.339398Z",
     "shell.execute_reply": "2023-04-10T05:15:40.338218Z"
    },
    "papermill": {
     "duration": 0.027477,
     "end_time": "2023-04-10T05:15:40.341350",
     "exception": false,
     "start_time": "2023-04-10T05:15:40.313873",
     "status": "completed"
    },
    "tags": []
   },
   "outputs": [],
   "source": [
    "submission = pd.DataFrame({'PassengerId': PassengerId, 'Survived': test_pred})"
   ]
  },
  {
   "cell_type": "code",
   "execution_count": 53,
   "id": "6690fea4",
   "metadata": {
    "execution": {
     "iopub.execute_input": "2023-04-10T05:15:40.378449Z",
     "iopub.status.busy": "2023-04-10T05:15:40.378065Z",
     "iopub.status.idle": "2023-04-10T05:15:40.388731Z",
     "shell.execute_reply": "2023-04-10T05:15:40.387529Z"
    },
    "papermill": {
     "duration": 0.032179,
     "end_time": "2023-04-10T05:15:40.391292",
     "exception": false,
     "start_time": "2023-04-10T05:15:40.359113",
     "status": "completed"
    },
    "tags": []
   },
   "outputs": [],
   "source": [
    "submission.to_csv('submission.csv', index=False)"
   ]
  },
  {
   "cell_type": "code",
   "execution_count": null,
   "id": "72c5d2e2",
   "metadata": {},
   "outputs": [],
   "source": []
  }
 ],
 "metadata": {
  "kernelspec": {
   "display_name": "Python 3 (ipykernel)",
   "language": "python",
   "name": "python3"
  },
  "language_info": {
   "codemirror_mode": {
    "name": "ipython",
    "version": 3
   },
   "file_extension": ".py",
   "mimetype": "text/x-python",
   "name": "python",
   "nbconvert_exporter": "python",
   "pygments_lexer": "ipython3",
   "version": "3.9.13"
  },
  "papermill": {
   "default_parameters": {},
   "duration": 19.651611,
   "end_time": "2023-04-10T05:15:41.267722",
   "environment_variables": {},
   "exception": null,
   "input_path": "__notebook__.ipynb",
   "output_path": "__notebook__.ipynb",
   "parameters": {},
   "start_time": "2023-04-10T05:15:21.616111",
   "version": "2.4.0"
  }
 },
 "nbformat": 4,
 "nbformat_minor": 5
}
